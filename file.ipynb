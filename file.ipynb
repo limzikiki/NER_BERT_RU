{
 "nbformat": 4,
 "nbformat_minor": 0,
 "metadata": {
  "colab": {
   "name": "NER",
   "provenance": [],
   "collapsed_sections": [],
   "mount_file_id": "18g_KsUq26T191aznnVXRzdlYe0c73omR",
   "authorship_tag": "ABX9TyMDZ0xnG4+Fc9e86syI/piz"
  },
  "kernelspec": {
   "name": "python3",
   "display_name": "Python 3 (ipykernel)",
   "language": "python"
  },
  "widgets": {
   "application/vnd.jupyter.widget-state+json": {
    "c4a7070d588647b7b87d2fb5137b8503": {
     "model_module": "@jupyter-widgets/controls",
     "model_name": "HBoxModel",
     "state": {
      "_view_name": "HBoxView",
      "_dom_classes": [],
      "_model_name": "HBoxModel",
      "_view_module": "@jupyter-widgets/controls",
      "_model_module_version": "1.5.0",
      "_view_count": null,
      "_view_module_version": "1.5.0",
      "box_style": "",
      "layout": "IPY_MODEL_7d0a3a2d4192497fad6fdbe582b51fde",
      "_model_module": "@jupyter-widgets/controls",
      "children": [
       "IPY_MODEL_781b4704d2ac44cebcfe143fbb56ad24",
       "IPY_MODEL_3c8f66a72cfd490eaa94556fb448a59e"
      ]
     }
    },
    "7d0a3a2d4192497fad6fdbe582b51fde": {
     "model_module": "@jupyter-widgets/base",
     "model_name": "LayoutModel",
     "state": {
      "_view_name": "LayoutView",
      "grid_template_rows": null,
      "right": null,
      "justify_content": null,
      "_view_module": "@jupyter-widgets/base",
      "overflow": null,
      "_model_module_version": "1.2.0",
      "_view_count": null,
      "flex_flow": null,
      "width": null,
      "min_width": null,
      "border": null,
      "align_items": null,
      "bottom": null,
      "_model_module": "@jupyter-widgets/base",
      "top": null,
      "grid_column": null,
      "overflow_y": null,
      "overflow_x": null,
      "grid_auto_flow": null,
      "grid_area": null,
      "grid_template_columns": null,
      "flex": null,
      "_model_name": "LayoutModel",
      "justify_items": null,
      "grid_row": null,
      "max_height": null,
      "align_content": null,
      "visibility": null,
      "align_self": null,
      "height": null,
      "min_height": null,
      "padding": null,
      "grid_auto_rows": null,
      "grid_gap": null,
      "max_width": null,
      "order": null,
      "_view_module_version": "1.2.0",
      "grid_template_areas": null,
      "object_position": null,
      "object_fit": null,
      "grid_auto_columns": null,
      "margin": null,
      "display": null,
      "left": null
     }
    },
    "781b4704d2ac44cebcfe143fbb56ad24": {
     "model_module": "@jupyter-widgets/controls",
     "model_name": "IntProgressModel",
     "state": {
      "_view_name": "ProgressView",
      "style": "IPY_MODEL_dfcdcc96d36d4f648d6ca84b05922c5d",
      "_dom_classes": [],
      "description": "Downloading: 100%",
      "_model_name": "IntProgressModel",
      "bar_style": "success",
      "max": 213450,
      "_view_module": "@jupyter-widgets/controls",
      "_model_module_version": "1.5.0",
      "value": 213450,
      "_view_count": null,
      "_view_module_version": "1.5.0",
      "orientation": "horizontal",
      "min": 0,
      "description_tooltip": null,
      "_model_module": "@jupyter-widgets/controls",
      "layout": "IPY_MODEL_62ff1bb2d1844d6f855b9bee9cb5c5b5"
     }
    },
    "3c8f66a72cfd490eaa94556fb448a59e": {
     "model_module": "@jupyter-widgets/controls",
     "model_name": "HTMLModel",
     "state": {
      "_view_name": "HTMLView",
      "style": "IPY_MODEL_c0e7517393584b809d68166821200e0f",
      "_dom_classes": [],
      "description": "",
      "_model_name": "HTMLModel",
      "placeholder": "​",
      "_view_module": "@jupyter-widgets/controls",
      "_model_module_version": "1.5.0",
      "value": " 213k/213k [00:00&lt;00:00, 924kB/s]",
      "_view_count": null,
      "_view_module_version": "1.5.0",
      "description_tooltip": null,
      "_model_module": "@jupyter-widgets/controls",
      "layout": "IPY_MODEL_c45ebf3a066a41498efed28782d93f65"
     }
    },
    "dfcdcc96d36d4f648d6ca84b05922c5d": {
     "model_module": "@jupyter-widgets/controls",
     "model_name": "ProgressStyleModel",
     "state": {
      "_view_name": "StyleView",
      "_model_name": "ProgressStyleModel",
      "description_width": "initial",
      "_view_module": "@jupyter-widgets/base",
      "_model_module_version": "1.5.0",
      "_view_count": null,
      "_view_module_version": "1.2.0",
      "bar_color": null,
      "_model_module": "@jupyter-widgets/controls"
     }
    },
    "62ff1bb2d1844d6f855b9bee9cb5c5b5": {
     "model_module": "@jupyter-widgets/base",
     "model_name": "LayoutModel",
     "state": {
      "_view_name": "LayoutView",
      "grid_template_rows": null,
      "right": null,
      "justify_content": null,
      "_view_module": "@jupyter-widgets/base",
      "overflow": null,
      "_model_module_version": "1.2.0",
      "_view_count": null,
      "flex_flow": null,
      "width": null,
      "min_width": null,
      "border": null,
      "align_items": null,
      "bottom": null,
      "_model_module": "@jupyter-widgets/base",
      "top": null,
      "grid_column": null,
      "overflow_y": null,
      "overflow_x": null,
      "grid_auto_flow": null,
      "grid_area": null,
      "grid_template_columns": null,
      "flex": null,
      "_model_name": "LayoutModel",
      "justify_items": null,
      "grid_row": null,
      "max_height": null,
      "align_content": null,
      "visibility": null,
      "align_self": null,
      "height": null,
      "min_height": null,
      "padding": null,
      "grid_auto_rows": null,
      "grid_gap": null,
      "max_width": null,
      "order": null,
      "_view_module_version": "1.2.0",
      "grid_template_areas": null,
      "object_position": null,
      "object_fit": null,
      "grid_auto_columns": null,
      "margin": null,
      "display": null,
      "left": null
     }
    },
    "c0e7517393584b809d68166821200e0f": {
     "model_module": "@jupyter-widgets/controls",
     "model_name": "DescriptionStyleModel",
     "state": {
      "_view_name": "StyleView",
      "_model_name": "DescriptionStyleModel",
      "description_width": "",
      "_view_module": "@jupyter-widgets/base",
      "_model_module_version": "1.5.0",
      "_view_count": null,
      "_view_module_version": "1.2.0",
      "_model_module": "@jupyter-widgets/controls"
     }
    },
    "c45ebf3a066a41498efed28782d93f65": {
     "model_module": "@jupyter-widgets/base",
     "model_name": "LayoutModel",
     "state": {
      "_view_name": "LayoutView",
      "grid_template_rows": null,
      "right": null,
      "justify_content": null,
      "_view_module": "@jupyter-widgets/base",
      "overflow": null,
      "_model_module_version": "1.2.0",
      "_view_count": null,
      "flex_flow": null,
      "width": null,
      "min_width": null,
      "border": null,
      "align_items": null,
      "bottom": null,
      "_model_module": "@jupyter-widgets/base",
      "top": null,
      "grid_column": null,
      "overflow_y": null,
      "overflow_x": null,
      "grid_auto_flow": null,
      "grid_area": null,
      "grid_template_columns": null,
      "flex": null,
      "_model_name": "LayoutModel",
      "justify_items": null,
      "grid_row": null,
      "max_height": null,
      "align_content": null,
      "visibility": null,
      "align_self": null,
      "height": null,
      "min_height": null,
      "padding": null,
      "grid_auto_rows": null,
      "grid_gap": null,
      "max_width": null,
      "order": null,
      "_view_module_version": "1.2.0",
      "grid_template_areas": null,
      "object_position": null,
      "object_fit": null,
      "grid_auto_columns": null,
      "margin": null,
      "display": null,
      "left": null
     }
    },
    "4b5e3947d03647b2ba8c7b4818be2c7e": {
     "model_module": "@jupyter-widgets/controls",
     "model_name": "HBoxModel",
     "state": {
      "_view_name": "HBoxView",
      "_dom_classes": [],
      "_model_name": "HBoxModel",
      "_view_module": "@jupyter-widgets/controls",
      "_model_module_version": "1.5.0",
      "_view_count": null,
      "_view_module_version": "1.5.0",
      "box_style": "",
      "layout": "IPY_MODEL_5fa14d467c4f442fa320f70b4661c665",
      "_model_module": "@jupyter-widgets/controls",
      "children": [
       "IPY_MODEL_8f967f67df8a463a969591acf19959c7",
       "IPY_MODEL_c7fd402921cd4b08bb487c40d8e3d8d1"
      ]
     }
    },
    "5fa14d467c4f442fa320f70b4661c665": {
     "model_module": "@jupyter-widgets/base",
     "model_name": "LayoutModel",
     "state": {
      "_view_name": "LayoutView",
      "grid_template_rows": null,
      "right": null,
      "justify_content": null,
      "_view_module": "@jupyter-widgets/base",
      "overflow": null,
      "_model_module_version": "1.2.0",
      "_view_count": null,
      "flex_flow": null,
      "width": null,
      "min_width": null,
      "border": null,
      "align_items": null,
      "bottom": null,
      "_model_module": "@jupyter-widgets/base",
      "top": null,
      "grid_column": null,
      "overflow_y": null,
      "overflow_x": null,
      "grid_auto_flow": null,
      "grid_area": null,
      "grid_template_columns": null,
      "flex": null,
      "_model_name": "LayoutModel",
      "justify_items": null,
      "grid_row": null,
      "max_height": null,
      "align_content": null,
      "visibility": null,
      "align_self": null,
      "height": null,
      "min_height": null,
      "padding": null,
      "grid_auto_rows": null,
      "grid_gap": null,
      "max_width": null,
      "order": null,
      "_view_module_version": "1.2.0",
      "grid_template_areas": null,
      "object_position": null,
      "object_fit": null,
      "grid_auto_columns": null,
      "margin": null,
      "display": null,
      "left": null
     }
    },
    "8f967f67df8a463a969591acf19959c7": {
     "model_module": "@jupyter-widgets/controls",
     "model_name": "IntProgressModel",
     "state": {
      "_view_name": "ProgressView",
      "style": "IPY_MODEL_38e033c67dd6486792fda4e353149c4a",
      "_dom_classes": [],
      "description": "Downloading: 100%",
      "_model_name": "IntProgressModel",
      "bar_style": "success",
      "max": 433,
      "_view_module": "@jupyter-widgets/controls",
      "_model_module_version": "1.5.0",
      "value": 433,
      "_view_count": null,
      "_view_module_version": "1.5.0",
      "orientation": "horizontal",
      "min": 0,
      "description_tooltip": null,
      "_model_module": "@jupyter-widgets/controls",
      "layout": "IPY_MODEL_12da5699d3414a05aeb3585d47fc7a62"
     }
    },
    "c7fd402921cd4b08bb487c40d8e3d8d1": {
     "model_module": "@jupyter-widgets/controls",
     "model_name": "HTMLModel",
     "state": {
      "_view_name": "HTMLView",
      "style": "IPY_MODEL_de1be7a0ff52484db403cafcadc269d7",
      "_dom_classes": [],
      "description": "",
      "_model_name": "HTMLModel",
      "placeholder": "​",
      "_view_module": "@jupyter-widgets/controls",
      "_model_module_version": "1.5.0",
      "value": " 433/433 [00:17&lt;00:00, 25.4B/s]",
      "_view_count": null,
      "_view_module_version": "1.5.0",
      "description_tooltip": null,
      "_model_module": "@jupyter-widgets/controls",
      "layout": "IPY_MODEL_b30c3101a4a14c7eb9eb5c25d529b838"
     }
    },
    "38e033c67dd6486792fda4e353149c4a": {
     "model_module": "@jupyter-widgets/controls",
     "model_name": "ProgressStyleModel",
     "state": {
      "_view_name": "StyleView",
      "_model_name": "ProgressStyleModel",
      "description_width": "initial",
      "_view_module": "@jupyter-widgets/base",
      "_model_module_version": "1.5.0",
      "_view_count": null,
      "_view_module_version": "1.2.0",
      "bar_color": null,
      "_model_module": "@jupyter-widgets/controls"
     }
    },
    "12da5699d3414a05aeb3585d47fc7a62": {
     "model_module": "@jupyter-widgets/base",
     "model_name": "LayoutModel",
     "state": {
      "_view_name": "LayoutView",
      "grid_template_rows": null,
      "right": null,
      "justify_content": null,
      "_view_module": "@jupyter-widgets/base",
      "overflow": null,
      "_model_module_version": "1.2.0",
      "_view_count": null,
      "flex_flow": null,
      "width": null,
      "min_width": null,
      "border": null,
      "align_items": null,
      "bottom": null,
      "_model_module": "@jupyter-widgets/base",
      "top": null,
      "grid_column": null,
      "overflow_y": null,
      "overflow_x": null,
      "grid_auto_flow": null,
      "grid_area": null,
      "grid_template_columns": null,
      "flex": null,
      "_model_name": "LayoutModel",
      "justify_items": null,
      "grid_row": null,
      "max_height": null,
      "align_content": null,
      "visibility": null,
      "align_self": null,
      "height": null,
      "min_height": null,
      "padding": null,
      "grid_auto_rows": null,
      "grid_gap": null,
      "max_width": null,
      "order": null,
      "_view_module_version": "1.2.0",
      "grid_template_areas": null,
      "object_position": null,
      "object_fit": null,
      "grid_auto_columns": null,
      "margin": null,
      "display": null,
      "left": null
     }
    },
    "de1be7a0ff52484db403cafcadc269d7": {
     "model_module": "@jupyter-widgets/controls",
     "model_name": "DescriptionStyleModel",
     "state": {
      "_view_name": "StyleView",
      "_model_name": "DescriptionStyleModel",
      "description_width": "",
      "_view_module": "@jupyter-widgets/base",
      "_model_module_version": "1.5.0",
      "_view_count": null,
      "_view_module_version": "1.2.0",
      "_model_module": "@jupyter-widgets/controls"
     }
    },
    "b30c3101a4a14c7eb9eb5c25d529b838": {
     "model_module": "@jupyter-widgets/base",
     "model_name": "LayoutModel",
     "state": {
      "_view_name": "LayoutView",
      "grid_template_rows": null,
      "right": null,
      "justify_content": null,
      "_view_module": "@jupyter-widgets/base",
      "overflow": null,
      "_model_module_version": "1.2.0",
      "_view_count": null,
      "flex_flow": null,
      "width": null,
      "min_width": null,
      "border": null,
      "align_items": null,
      "bottom": null,
      "_model_module": "@jupyter-widgets/base",
      "top": null,
      "grid_column": null,
      "overflow_y": null,
      "overflow_x": null,
      "grid_auto_flow": null,
      "grid_area": null,
      "grid_template_columns": null,
      "flex": null,
      "_model_name": "LayoutModel",
      "justify_items": null,
      "grid_row": null,
      "max_height": null,
      "align_content": null,
      "visibility": null,
      "align_self": null,
      "height": null,
      "min_height": null,
      "padding": null,
      "grid_auto_rows": null,
      "grid_gap": null,
      "max_width": null,
      "order": null,
      "_view_module_version": "1.2.0",
      "grid_template_areas": null,
      "object_position": null,
      "object_fit": null,
      "grid_auto_columns": null,
      "margin": null,
      "display": null,
      "left": null
     }
    },
    "a6fa7e033aae41d9b863a9de69139113": {
     "model_module": "@jupyter-widgets/controls",
     "model_name": "HBoxModel",
     "state": {
      "_view_name": "HBoxView",
      "_dom_classes": [],
      "_model_name": "HBoxModel",
      "_view_module": "@jupyter-widgets/controls",
      "_model_module_version": "1.5.0",
      "_view_count": null,
      "_view_module_version": "1.5.0",
      "box_style": "",
      "layout": "IPY_MODEL_74208456c85b40a3acef0d087ef2b8cb",
      "_model_module": "@jupyter-widgets/controls",
      "children": [
       "IPY_MODEL_e76db483fe75455eb50d67af67da21e8",
       "IPY_MODEL_bec0cab32a6543dc98f0018fa7e427fc"
      ]
     }
    },
    "74208456c85b40a3acef0d087ef2b8cb": {
     "model_module": "@jupyter-widgets/base",
     "model_name": "LayoutModel",
     "state": {
      "_view_name": "LayoutView",
      "grid_template_rows": null,
      "right": null,
      "justify_content": null,
      "_view_module": "@jupyter-widgets/base",
      "overflow": null,
      "_model_module_version": "1.2.0",
      "_view_count": null,
      "flex_flow": null,
      "width": null,
      "min_width": null,
      "border": null,
      "align_items": null,
      "bottom": null,
      "_model_module": "@jupyter-widgets/base",
      "top": null,
      "grid_column": null,
      "overflow_y": null,
      "overflow_x": null,
      "grid_auto_flow": null,
      "grid_area": null,
      "grid_template_columns": null,
      "flex": null,
      "_model_name": "LayoutModel",
      "justify_items": null,
      "grid_row": null,
      "max_height": null,
      "align_content": null,
      "visibility": null,
      "align_self": null,
      "height": null,
      "min_height": null,
      "padding": null,
      "grid_auto_rows": null,
      "grid_gap": null,
      "max_width": null,
      "order": null,
      "_view_module_version": "1.2.0",
      "grid_template_areas": null,
      "object_position": null,
      "object_fit": null,
      "grid_auto_columns": null,
      "margin": null,
      "display": null,
      "left": null
     }
    },
    "e76db483fe75455eb50d67af67da21e8": {
     "model_module": "@jupyter-widgets/controls",
     "model_name": "IntProgressModel",
     "state": {
      "_view_name": "ProgressView",
      "style": "IPY_MODEL_fc32f6a771ac4d81a2d43ccaba68a785",
      "_dom_classes": [],
      "description": "Downloading: 100%",
      "_model_name": "IntProgressModel",
      "bar_style": "success",
      "max": 435779157,
      "_view_module": "@jupyter-widgets/controls",
      "_model_module_version": "1.5.0",
      "value": 435779157,
      "_view_count": null,
      "_view_module_version": "1.5.0",
      "orientation": "horizontal",
      "min": 0,
      "description_tooltip": null,
      "_model_module": "@jupyter-widgets/controls",
      "layout": "IPY_MODEL_9cacc5fc68b54d6395588e0d4a7bdc44"
     }
    },
    "bec0cab32a6543dc98f0018fa7e427fc": {
     "model_module": "@jupyter-widgets/controls",
     "model_name": "HTMLModel",
     "state": {
      "_view_name": "HTMLView",
      "style": "IPY_MODEL_0f3c8cce1f9b487c8d22fadb3af4496b",
      "_dom_classes": [],
      "description": "",
      "_model_name": "HTMLModel",
      "placeholder": "​",
      "_view_module": "@jupyter-widgets/controls",
      "_model_module_version": "1.5.0",
      "value": " 436M/436M [00:13&lt;00:00, 31.2MB/s]",
      "_view_count": null,
      "_view_module_version": "1.5.0",
      "description_tooltip": null,
      "_model_module": "@jupyter-widgets/controls",
      "layout": "IPY_MODEL_ec51a97691fe4f359aa021d3e12cfcc5"
     }
    },
    "fc32f6a771ac4d81a2d43ccaba68a785": {
     "model_module": "@jupyter-widgets/controls",
     "model_name": "ProgressStyleModel",
     "state": {
      "_view_name": "StyleView",
      "_model_name": "ProgressStyleModel",
      "description_width": "initial",
      "_view_module": "@jupyter-widgets/base",
      "_model_module_version": "1.5.0",
      "_view_count": null,
      "_view_module_version": "1.2.0",
      "bar_color": null,
      "_model_module": "@jupyter-widgets/controls"
     }
    },
    "9cacc5fc68b54d6395588e0d4a7bdc44": {
     "model_module": "@jupyter-widgets/base",
     "model_name": "LayoutModel",
     "state": {
      "_view_name": "LayoutView",
      "grid_template_rows": null,
      "right": null,
      "justify_content": null,
      "_view_module": "@jupyter-widgets/base",
      "overflow": null,
      "_model_module_version": "1.2.0",
      "_view_count": null,
      "flex_flow": null,
      "width": null,
      "min_width": null,
      "border": null,
      "align_items": null,
      "bottom": null,
      "_model_module": "@jupyter-widgets/base",
      "top": null,
      "grid_column": null,
      "overflow_y": null,
      "overflow_x": null,
      "grid_auto_flow": null,
      "grid_area": null,
      "grid_template_columns": null,
      "flex": null,
      "_model_name": "LayoutModel",
      "justify_items": null,
      "grid_row": null,
      "max_height": null,
      "align_content": null,
      "visibility": null,
      "align_self": null,
      "height": null,
      "min_height": null,
      "padding": null,
      "grid_auto_rows": null,
      "grid_gap": null,
      "max_width": null,
      "order": null,
      "_view_module_version": "1.2.0",
      "grid_template_areas": null,
      "object_position": null,
      "object_fit": null,
      "grid_auto_columns": null,
      "margin": null,
      "display": null,
      "left": null
     }
    },
    "0f3c8cce1f9b487c8d22fadb3af4496b": {
     "model_module": "@jupyter-widgets/controls",
     "model_name": "DescriptionStyleModel",
     "state": {
      "_view_name": "StyleView",
      "_model_name": "DescriptionStyleModel",
      "description_width": "",
      "_view_module": "@jupyter-widgets/base",
      "_model_module_version": "1.5.0",
      "_view_count": null,
      "_view_module_version": "1.2.0",
      "_model_module": "@jupyter-widgets/controls"
     }
    },
    "ec51a97691fe4f359aa021d3e12cfcc5": {
     "model_module": "@jupyter-widgets/base",
     "model_name": "LayoutModel",
     "state": {
      "_view_name": "LayoutView",
      "grid_template_rows": null,
      "right": null,
      "justify_content": null,
      "_view_module": "@jupyter-widgets/base",
      "overflow": null,
      "_model_module_version": "1.2.0",
      "_view_count": null,
      "flex_flow": null,
      "width": null,
      "min_width": null,
      "border": null,
      "align_items": null,
      "bottom": null,
      "_model_module": "@jupyter-widgets/base",
      "top": null,
      "grid_column": null,
      "overflow_y": null,
      "overflow_x": null,
      "grid_auto_flow": null,
      "grid_area": null,
      "grid_template_columns": null,
      "flex": null,
      "_model_name": "LayoutModel",
      "justify_items": null,
      "grid_row": null,
      "max_height": null,
      "align_content": null,
      "visibility": null,
      "align_self": null,
      "height": null,
      "min_height": null,
      "padding": null,
      "grid_auto_rows": null,
      "grid_gap": null,
      "max_width": null,
      "order": null,
      "_view_module_version": "1.2.0",
      "grid_template_areas": null,
      "object_position": null,
      "object_fit": null,
      "grid_auto_columns": null,
      "margin": null,
      "display": null,
      "left": null
     }
    }
   }
  }
 },
 "cells": [
  {
   "cell_type": "markdown",
   "metadata": {
    "id": "ENN1ZTsrf4xR",
    "colab_type": "text"
   },
   "source": [
    "# Выделение именованных сущностей в тексте с помощью BERT\n",
    "\n",
    "Воспользовавшись библиотекой Transformers, загрузим предобученную модель BERT Base и дообучим её для распознавания именованных сущностей.\n",
    "\n",
    "Для дообучения модели воспользуемся готовым датасетом [WiNER](https://www.aclweb.org/anthology/I17-1042). Это размеченный датасет, созданный из некоторых статей русской Википедии.\n",
    "\n",
    "Теги датасета (используется BIO-разметка):\n",
    "* LOC - локация;\n",
    "* MISC - общие термины;\n",
    "* ORG - наименование организации;\n",
    "* PER - имя человека.\n",
    "\n"
   ]
  },
  {
   "cell_type": "markdown",
   "metadata": {
    "id": "nzRqBRGxkmTa",
    "colab_type": "text"
   },
   "source": [
    "## Библиотеки"
   ]
  },
  {
   "cell_type": "code",
   "metadata": {
    "id": "OM6SB4S4quVi",
    "colab_type": "code",
    "colab": {},
    "ExecuteTime": {
     "end_time": "2024-06-16T08:40:32.691948Z",
     "start_time": "2024-06-16T08:38:12.383939Z"
    }
   },
   "source": "!pip install transformers seqeval keras torch matplotlib seaborn tensorflow",
   "outputs": [
    {
     "name": "stdout",
     "output_type": "stream",
     "text": [
      "Requirement already satisfied: transformers in c:\\source\\other\\ner_bert_ru\\venv\\lib\\site-packages (4.41.2)\n",
      "Requirement already satisfied: seqeval in c:\\source\\other\\ner_bert_ru\\venv\\lib\\site-packages (1.2.2)\n",
      "Requirement already satisfied: keras in c:\\source\\other\\ner_bert_ru\\venv\\lib\\site-packages (3.3.3)\n",
      "Requirement already satisfied: torch in c:\\source\\other\\ner_bert_ru\\venv\\lib\\site-packages (2.3.1)\n",
      "Requirement already satisfied: matplotlib in c:\\source\\other\\ner_bert_ru\\venv\\lib\\site-packages (3.9.0)\n",
      "Requirement already satisfied: seaborn in c:\\source\\other\\ner_bert_ru\\venv\\lib\\site-packages (0.13.2)\n",
      "Collecting tensorflow\n",
      "  Downloading tensorflow-2.16.1-cp312-cp312-win_amd64.whl.metadata (3.5 kB)\n",
      "Requirement already satisfied: filelock in c:\\source\\other\\ner_bert_ru\\venv\\lib\\site-packages (from transformers) (3.15.1)\n",
      "Requirement already satisfied: huggingface-hub<1.0,>=0.23.0 in c:\\source\\other\\ner_bert_ru\\venv\\lib\\site-packages (from transformers) (0.23.4)\n",
      "Requirement already satisfied: numpy>=1.17 in c:\\source\\other\\ner_bert_ru\\venv\\lib\\site-packages (from transformers) (1.26.4)\n",
      "Requirement already satisfied: packaging>=20.0 in c:\\source\\other\\ner_bert_ru\\venv\\lib\\site-packages (from transformers) (24.1)\n",
      "Requirement already satisfied: pyyaml>=5.1 in c:\\source\\other\\ner_bert_ru\\venv\\lib\\site-packages (from transformers) (6.0.1)\n",
      "Requirement already satisfied: regex!=2019.12.17 in c:\\source\\other\\ner_bert_ru\\venv\\lib\\site-packages (from transformers) (2024.5.15)\n",
      "Requirement already satisfied: requests in c:\\source\\other\\ner_bert_ru\\venv\\lib\\site-packages (from transformers) (2.32.3)\n",
      "Requirement already satisfied: tokenizers<0.20,>=0.19 in c:\\source\\other\\ner_bert_ru\\venv\\lib\\site-packages (from transformers) (0.19.1)\n",
      "Requirement already satisfied: safetensors>=0.4.1 in c:\\source\\other\\ner_bert_ru\\venv\\lib\\site-packages (from transformers) (0.4.3)\n",
      "Requirement already satisfied: tqdm>=4.27 in c:\\source\\other\\ner_bert_ru\\venv\\lib\\site-packages (from transformers) (4.66.4)\n",
      "Requirement already satisfied: scikit-learn>=0.21.3 in c:\\source\\other\\ner_bert_ru\\venv\\lib\\site-packages (from seqeval) (1.5.0)\n",
      "Requirement already satisfied: absl-py in c:\\source\\other\\ner_bert_ru\\venv\\lib\\site-packages (from keras) (2.1.0)\n",
      "Requirement already satisfied: rich in c:\\source\\other\\ner_bert_ru\\venv\\lib\\site-packages (from keras) (13.7.1)\n",
      "Requirement already satisfied: namex in c:\\source\\other\\ner_bert_ru\\venv\\lib\\site-packages (from keras) (0.0.8)\n",
      "Requirement already satisfied: h5py in c:\\source\\other\\ner_bert_ru\\venv\\lib\\site-packages (from keras) (3.11.0)\n",
      "Requirement already satisfied: optree in c:\\source\\other\\ner_bert_ru\\venv\\lib\\site-packages (from keras) (0.11.0)\n",
      "Requirement already satisfied: ml-dtypes in c:\\source\\other\\ner_bert_ru\\venv\\lib\\site-packages (from keras) (0.4.0)\n",
      "Requirement already satisfied: typing-extensions>=4.8.0 in c:\\source\\other\\ner_bert_ru\\venv\\lib\\site-packages (from torch) (4.12.2)\n",
      "Requirement already satisfied: sympy in c:\\source\\other\\ner_bert_ru\\venv\\lib\\site-packages (from torch) (1.12.1)\n",
      "Requirement already satisfied: networkx in c:\\source\\other\\ner_bert_ru\\venv\\lib\\site-packages (from torch) (3.3)\n",
      "Requirement already satisfied: jinja2 in c:\\source\\other\\ner_bert_ru\\venv\\lib\\site-packages (from torch) (3.1.4)\n",
      "Requirement already satisfied: fsspec in c:\\source\\other\\ner_bert_ru\\venv\\lib\\site-packages (from torch) (2024.6.0)\n",
      "Requirement already satisfied: mkl<=2021.4.0,>=2021.1.1 in c:\\source\\other\\ner_bert_ru\\venv\\lib\\site-packages (from torch) (2021.4.0)\n",
      "Requirement already satisfied: contourpy>=1.0.1 in c:\\source\\other\\ner_bert_ru\\venv\\lib\\site-packages (from matplotlib) (1.2.1)\n",
      "Requirement already satisfied: cycler>=0.10 in c:\\source\\other\\ner_bert_ru\\venv\\lib\\site-packages (from matplotlib) (0.12.1)\n",
      "Requirement already satisfied: fonttools>=4.22.0 in c:\\source\\other\\ner_bert_ru\\venv\\lib\\site-packages (from matplotlib) (4.53.0)\n",
      "Requirement already satisfied: kiwisolver>=1.3.1 in c:\\source\\other\\ner_bert_ru\\venv\\lib\\site-packages (from matplotlib) (1.4.5)\n",
      "Requirement already satisfied: pillow>=8 in c:\\source\\other\\ner_bert_ru\\venv\\lib\\site-packages (from matplotlib) (10.3.0)\n",
      "Requirement already satisfied: pyparsing>=2.3.1 in c:\\source\\other\\ner_bert_ru\\venv\\lib\\site-packages (from matplotlib) (3.1.2)\n",
      "Requirement already satisfied: python-dateutil>=2.7 in c:\\source\\other\\ner_bert_ru\\venv\\lib\\site-packages (from matplotlib) (2.9.0.post0)\n",
      "Requirement already satisfied: pandas>=1.2 in c:\\source\\other\\ner_bert_ru\\venv\\lib\\site-packages (from seaborn) (2.2.2)\n",
      "Collecting tensorflow-intel==2.16.1 (from tensorflow)\n",
      "  Downloading tensorflow_intel-2.16.1-cp312-cp312-win_amd64.whl.metadata (5.0 kB)\n",
      "Collecting astunparse>=1.6.0 (from tensorflow-intel==2.16.1->tensorflow)\n",
      "  Downloading astunparse-1.6.3-py2.py3-none-any.whl.metadata (4.4 kB)\n",
      "Collecting flatbuffers>=23.5.26 (from tensorflow-intel==2.16.1->tensorflow)\n",
      "  Downloading flatbuffers-24.3.25-py2.py3-none-any.whl.metadata (850 bytes)\n",
      "Collecting gast!=0.5.0,!=0.5.1,!=0.5.2,>=0.2.1 (from tensorflow-intel==2.16.1->tensorflow)\n",
      "  Downloading gast-0.5.4-py3-none-any.whl.metadata (1.3 kB)\n",
      "Collecting google-pasta>=0.1.1 (from tensorflow-intel==2.16.1->tensorflow)\n",
      "  Downloading google_pasta-0.2.0-py3-none-any.whl.metadata (814 bytes)\n",
      "Collecting libclang>=13.0.0 (from tensorflow-intel==2.16.1->tensorflow)\n",
      "  Downloading libclang-18.1.1-py2.py3-none-win_amd64.whl.metadata (5.3 kB)\n",
      "Collecting ml-dtypes (from keras)\n",
      "  Downloading ml_dtypes-0.3.2-cp312-cp312-win_amd64.whl.metadata (20 kB)\n",
      "Collecting opt-einsum>=2.3.2 (from tensorflow-intel==2.16.1->tensorflow)\n",
      "  Downloading opt_einsum-3.3.0-py3-none-any.whl.metadata (6.5 kB)\n",
      "Collecting protobuf!=4.21.0,!=4.21.1,!=4.21.2,!=4.21.3,!=4.21.4,!=4.21.5,<5.0.0dev,>=3.20.3 (from tensorflow-intel==2.16.1->tensorflow)\n",
      "  Downloading protobuf-4.25.3-cp310-abi3-win_amd64.whl.metadata (541 bytes)\n",
      "Requirement already satisfied: setuptools in c:\\source\\other\\ner_bert_ru\\venv\\lib\\site-packages (from tensorflow-intel==2.16.1->tensorflow) (70.0.0)\n",
      "Requirement already satisfied: six>=1.12.0 in c:\\source\\other\\ner_bert_ru\\venv\\lib\\site-packages (from tensorflow-intel==2.16.1->tensorflow) (1.16.0)\n",
      "Collecting termcolor>=1.1.0 (from tensorflow-intel==2.16.1->tensorflow)\n",
      "  Downloading termcolor-2.4.0-py3-none-any.whl.metadata (6.1 kB)\n",
      "Collecting wrapt>=1.11.0 (from tensorflow-intel==2.16.1->tensorflow)\n",
      "  Downloading wrapt-1.16.0-cp312-cp312-win_amd64.whl.metadata (6.8 kB)\n",
      "Collecting grpcio<2.0,>=1.24.3 (from tensorflow-intel==2.16.1->tensorflow)\n",
      "  Downloading grpcio-1.64.1-cp312-cp312-win_amd64.whl.metadata (3.4 kB)\n",
      "Collecting tensorboard<2.17,>=2.16 (from tensorflow-intel==2.16.1->tensorflow)\n",
      "  Downloading tensorboard-2.16.2-py3-none-any.whl.metadata (1.6 kB)\n",
      "Requirement already satisfied: intel-openmp==2021.* in c:\\source\\other\\ner_bert_ru\\venv\\lib\\site-packages (from mkl<=2021.4.0,>=2021.1.1->torch) (2021.4.0)\n",
      "Requirement already satisfied: tbb==2021.* in c:\\source\\other\\ner_bert_ru\\venv\\lib\\site-packages (from mkl<=2021.4.0,>=2021.1.1->torch) (2021.12.0)\n",
      "Requirement already satisfied: pytz>=2020.1 in c:\\source\\other\\ner_bert_ru\\venv\\lib\\site-packages (from pandas>=1.2->seaborn) (2024.1)\n",
      "Requirement already satisfied: tzdata>=2022.7 in c:\\source\\other\\ner_bert_ru\\venv\\lib\\site-packages (from pandas>=1.2->seaborn) (2024.1)\n",
      "Requirement already satisfied: charset-normalizer<4,>=2 in c:\\source\\other\\ner_bert_ru\\venv\\lib\\site-packages (from requests->transformers) (3.3.2)\n",
      "Requirement already satisfied: idna<4,>=2.5 in c:\\source\\other\\ner_bert_ru\\venv\\lib\\site-packages (from requests->transformers) (3.7)\n",
      "Requirement already satisfied: urllib3<3,>=1.21.1 in c:\\source\\other\\ner_bert_ru\\venv\\lib\\site-packages (from requests->transformers) (2.2.1)\n",
      "Requirement already satisfied: certifi>=2017.4.17 in c:\\source\\other\\ner_bert_ru\\venv\\lib\\site-packages (from requests->transformers) (2024.6.2)\n",
      "Requirement already satisfied: scipy>=1.6.0 in c:\\source\\other\\ner_bert_ru\\venv\\lib\\site-packages (from scikit-learn>=0.21.3->seqeval) (1.13.1)\n",
      "Requirement already satisfied: joblib>=1.2.0 in c:\\source\\other\\ner_bert_ru\\venv\\lib\\site-packages (from scikit-learn>=0.21.3->seqeval) (1.4.2)\n",
      "Requirement already satisfied: threadpoolctl>=3.1.0 in c:\\source\\other\\ner_bert_ru\\venv\\lib\\site-packages (from scikit-learn>=0.21.3->seqeval) (3.5.0)\n",
      "Requirement already satisfied: colorama in c:\\source\\other\\ner_bert_ru\\venv\\lib\\site-packages (from tqdm>=4.27->transformers) (0.4.6)\n",
      "Requirement already satisfied: MarkupSafe>=2.0 in c:\\source\\other\\ner_bert_ru\\venv\\lib\\site-packages (from jinja2->torch) (2.1.5)\n",
      "Requirement already satisfied: markdown-it-py>=2.2.0 in c:\\source\\other\\ner_bert_ru\\venv\\lib\\site-packages (from rich->keras) (3.0.0)\n",
      "Requirement already satisfied: pygments<3.0.0,>=2.13.0 in c:\\source\\other\\ner_bert_ru\\venv\\lib\\site-packages (from rich->keras) (2.18.0)\n",
      "Requirement already satisfied: mpmath<1.4.0,>=1.1.0 in c:\\source\\other\\ner_bert_ru\\venv\\lib\\site-packages (from sympy->torch) (1.3.0)\n",
      "Collecting wheel<1.0,>=0.23.0 (from astunparse>=1.6.0->tensorflow-intel==2.16.1->tensorflow)\n",
      "  Using cached wheel-0.43.0-py3-none-any.whl.metadata (2.2 kB)\n",
      "Requirement already satisfied: mdurl~=0.1 in c:\\source\\other\\ner_bert_ru\\venv\\lib\\site-packages (from markdown-it-py>=2.2.0->rich->keras) (0.1.2)\n",
      "Collecting markdown>=2.6.8 (from tensorboard<2.17,>=2.16->tensorflow-intel==2.16.1->tensorflow)\n",
      "  Downloading Markdown-3.6-py3-none-any.whl.metadata (7.0 kB)\n",
      "Collecting tensorboard-data-server<0.8.0,>=0.7.0 (from tensorboard<2.17,>=2.16->tensorflow-intel==2.16.1->tensorflow)\n",
      "  Downloading tensorboard_data_server-0.7.2-py3-none-any.whl.metadata (1.1 kB)\n",
      "Collecting werkzeug>=1.0.1 (from tensorboard<2.17,>=2.16->tensorflow-intel==2.16.1->tensorflow)\n",
      "  Downloading werkzeug-3.0.3-py3-none-any.whl.metadata (3.7 kB)\n",
      "Downloading tensorflow-2.16.1-cp312-cp312-win_amd64.whl (2.1 kB)\n",
      "Downloading tensorflow_intel-2.16.1-cp312-cp312-win_amd64.whl (377.1 MB)\n",
      "   ---------------------------------------- 0.0/377.1 MB ? eta -:--:--\n",
      "   ---------------------------------------- 0.1/377.1 MB 3.3 MB/s eta 0:01:55\n",
      "   ---------------------------------------- 0.5/377.1 MB 7.8 MB/s eta 0:00:49\n",
      "   ---------------------------------------- 1.3/377.1 MB 11.7 MB/s eta 0:00:33\n",
      "   ---------------------------------------- 2.6/377.1 MB 18.5 MB/s eta 0:00:21\n",
      "   ---------------------------------------- 4.0/377.1 MB 21.2 MB/s eta 0:00:18\n",
      "    --------------------------------------- 5.4/377.1 MB 24.5 MB/s eta 0:00:16\n",
      "    --------------------------------------- 6.8/377.1 MB 27.2 MB/s eta 0:00:14\n",
      "    --------------------------------------- 8.2/377.1 MB 27.5 MB/s eta 0:00:14\n",
      "    --------------------------------------- 9.4/377.1 MB 28.5 MB/s eta 0:00:13\n",
      "   - -------------------------------------- 10.7/377.1 MB 34.6 MB/s eta 0:00:11\n",
      "   - -------------------------------------- 12.0/377.1 MB 38.5 MB/s eta 0:00:10\n",
      "   - -------------------------------------- 13.3/377.1 MB 36.3 MB/s eta 0:00:11\n",
      "   - -------------------------------------- 14.4/377.1 MB 36.4 MB/s eta 0:00:10\n",
      "   - -------------------------------------- 15.8/377.1 MB 36.4 MB/s eta 0:00:10\n",
      "   - -------------------------------------- 17.2/377.1 MB 34.4 MB/s eta 0:00:11\n",
      "   - -------------------------------------- 18.6/377.1 MB 36.4 MB/s eta 0:00:10\n",
      "   -- ------------------------------------- 19.8/377.1 MB 34.4 MB/s eta 0:00:11\n",
      "   -- ------------------------------------- 21.1/377.1 MB 34.4 MB/s eta 0:00:11\n",
      "   -- ------------------------------------- 22.5/377.1 MB 34.4 MB/s eta 0:00:11\n",
      "   -- ------------------------------------- 24.0/377.1 MB 36.4 MB/s eta 0:00:10\n",
      "   -- ------------------------------------- 25.9/377.1 MB 38.5 MB/s eta 0:00:10\n",
      "   -- ------------------------------------- 27.8/377.1 MB 40.9 MB/s eta 0:00:09\n",
      "   --- ------------------------------------ 29.7/377.1 MB 43.5 MB/s eta 0:00:08\n",
      "   --- ------------------------------------ 31.8/377.1 MB 50.4 MB/s eta 0:00:07\n",
      "   --- ------------------------------------ 33.5/377.1 MB 50.4 MB/s eta 0:00:07\n",
      "   --- ------------------------------------ 35.5/377.1 MB 50.4 MB/s eta 0:00:07\n",
      "   --- ------------------------------------ 37.2/377.1 MB 50.4 MB/s eta 0:00:07\n",
      "   ---- ----------------------------------- 39.4/377.1 MB 50.4 MB/s eta 0:00:07\n",
      "   ---- ----------------------------------- 41.2/377.1 MB 50.1 MB/s eta 0:00:07\n",
      "   ---- ----------------------------------- 43.2/377.1 MB 54.4 MB/s eta 0:00:07\n",
      "   ---- ----------------------------------- 45.4/377.1 MB 54.4 MB/s eta 0:00:07\n",
      "   ----- ---------------------------------- 47.7/377.1 MB 54.4 MB/s eta 0:00:07\n",
      "   ----- ---------------------------------- 49.7/377.1 MB 54.4 MB/s eta 0:00:07\n",
      "   ----- ---------------------------------- 51.3/377.1 MB 54.7 MB/s eta 0:00:06\n",
      "   ----- ---------------------------------- 53.2/377.1 MB 50.4 MB/s eta 0:00:07\n",
      "   ----- ---------------------------------- 55.0/377.1 MB 50.4 MB/s eta 0:00:07\n",
      "   ------ --------------------------------- 56.9/377.1 MB 54.7 MB/s eta 0:00:06\n",
      "   ------ --------------------------------- 58.7/377.1 MB 50.4 MB/s eta 0:00:07\n",
      "   ------ --------------------------------- 60.7/377.1 MB 50.1 MB/s eta 0:00:07\n",
      "   ------ --------------------------------- 62.9/377.1 MB 50.4 MB/s eta 0:00:07\n",
      "   ------ --------------------------------- 65.1/377.1 MB 54.4 MB/s eta 0:00:06\n",
      "   ------- -------------------------------- 67.5/377.1 MB 59.5 MB/s eta 0:00:06\n",
      "   ------- -------------------------------- 69.7/377.1 MB 59.5 MB/s eta 0:00:06\n",
      "   ------- -------------------------------- 71.9/377.1 MB 59.5 MB/s eta 0:00:06\n",
      "   ------- -------------------------------- 74.0/377.1 MB 59.5 MB/s eta 0:00:06\n",
      "   -------- ------------------------------- 76.0/377.1 MB 59.5 MB/s eta 0:00:06\n",
      "   -------- ------------------------------- 78.1/377.1 MB 59.8 MB/s eta 0:00:05\n",
      "   -------- ------------------------------- 80.2/377.1 MB 54.7 MB/s eta 0:00:06\n",
      "   -------- ------------------------------- 82.2/377.1 MB 54.4 MB/s eta 0:00:06\n",
      "   -------- ------------------------------- 84.8/377.1 MB 54.7 MB/s eta 0:00:06\n",
      "   --------- ------------------------------ 86.7/377.1 MB 59.5 MB/s eta 0:00:05\n",
      "   --------- ------------------------------ 89.3/377.1 MB 59.5 MB/s eta 0:00:05\n",
      "   --------- ------------------------------ 90.9/377.1 MB 59.5 MB/s eta 0:00:05\n",
      "   --------- ------------------------------ 92.9/377.1 MB 59.5 MB/s eta 0:00:05\n",
      "   ---------- ----------------------------- 94.7/377.1 MB 54.7 MB/s eta 0:00:06\n",
      "   ---------- ----------------------------- 97.0/377.1 MB 54.7 MB/s eta 0:00:06\n",
      "   ---------- ----------------------------- 98.9/377.1 MB 54.7 MB/s eta 0:00:06\n",
      "   ---------- ---------------------------- 101.2/377.1 MB 59.5 MB/s eta 0:00:05\n",
      "   ---------- ---------------------------- 103.1/377.1 MB 54.4 MB/s eta 0:00:06\n",
      "   ---------- ---------------------------- 104.9/377.1 MB 54.4 MB/s eta 0:00:06\n",
      "   ----------- --------------------------- 106.6/377.1 MB 50.4 MB/s eta 0:00:06\n",
      "   ----------- --------------------------- 108.7/377.1 MB 50.4 MB/s eta 0:00:06\n",
      "   ----------- --------------------------- 110.9/377.1 MB 54.7 MB/s eta 0:00:05\n",
      "   ----------- --------------------------- 112.8/377.1 MB 50.4 MB/s eta 0:00:06\n",
      "   ----------- --------------------------- 114.9/377.1 MB 54.7 MB/s eta 0:00:05\n",
      "   ------------ -------------------------- 116.2/377.1 MB 54.4 MB/s eta 0:00:05\n",
      "   ------------ -------------------------- 117.2/377.1 MB 46.9 MB/s eta 0:00:06\n",
      "   ------------ -------------------------- 119.2/377.1 MB 46.7 MB/s eta 0:00:06\n",
      "   ------------ -------------------------- 121.2/377.1 MB 46.7 MB/s eta 0:00:06\n",
      "   ------------ -------------------------- 123.6/377.1 MB 46.7 MB/s eta 0:00:06\n",
      "   ------------- ------------------------- 125.7/377.1 MB 50.4 MB/s eta 0:00:05\n",
      "   ------------- ------------------------- 128.0/377.1 MB 59.5 MB/s eta 0:00:05\n",
      "   ------------- ------------------------- 130.2/377.1 MB 59.5 MB/s eta 0:00:05\n",
      "   ------------- ------------------------- 133.0/377.1 MB 59.5 MB/s eta 0:00:05\n",
      "   ------------- ------------------------- 135.4/377.1 MB 65.6 MB/s eta 0:00:04\n",
      "   -------------- ------------------------ 137.4/377.1 MB 65.2 MB/s eta 0:00:04\n",
      "   -------------- ------------------------ 139.8/377.1 MB 59.8 MB/s eta 0:00:04\n",
      "   -------------- ------------------------ 141.3/377.1 MB 59.5 MB/s eta 0:00:04\n",
      "   -------------- ------------------------ 142.0/377.1 MB 50.4 MB/s eta 0:00:05\n",
      "   -------------- ------------------------ 143.1/377.1 MB 46.7 MB/s eta 0:00:06\n",
      "   --------------- ----------------------- 145.1/377.1 MB 46.7 MB/s eta 0:00:05\n",
      "   --------------- ----------------------- 147.4/377.1 MB 46.9 MB/s eta 0:00:05\n",
      "   --------------- ----------------------- 149.6/377.1 MB 43.7 MB/s eta 0:00:06\n",
      "   --------------- ----------------------- 151.6/377.1 MB 46.9 MB/s eta 0:00:05\n",
      "   --------------- ----------------------- 153.8/377.1 MB 59.5 MB/s eta 0:00:04\n",
      "   ---------------- ---------------------- 156.3/377.1 MB 59.5 MB/s eta 0:00:04\n",
      "   ---------------- ---------------------- 158.4/377.1 MB 59.5 MB/s eta 0:00:04\n",
      "   ---------------- ---------------------- 160.6/377.1 MB 65.6 MB/s eta 0:00:04\n",
      "   ---------------- ---------------------- 162.9/377.1 MB 59.5 MB/s eta 0:00:04\n",
      "   ----------------- --------------------- 165.2/377.1 MB 65.6 MB/s eta 0:00:04\n",
      "   ----------------- --------------------- 167.4/377.1 MB 59.5 MB/s eta 0:00:04\n",
      "   ----------------- --------------------- 170.0/377.1 MB 65.6 MB/s eta 0:00:04\n",
      "   ----------------- --------------------- 172.6/377.1 MB 59.5 MB/s eta 0:00:04\n",
      "   ------------------ -------------------- 175.1/377.1 MB 65.6 MB/s eta 0:00:04\n",
      "   ------------------ -------------------- 177.7/377.1 MB 65.6 MB/s eta 0:00:04\n",
      "   ------------------ -------------------- 180.2/377.1 MB 65.2 MB/s eta 0:00:04\n",
      "   ------------------ -------------------- 182.8/377.1 MB 65.6 MB/s eta 0:00:03\n",
      "   ------------------ -------------------- 183.6/377.1 MB 65.6 MB/s eta 0:00:03\n",
      "   ------------------ -------------------- 183.6/377.1 MB 65.6 MB/s eta 0:00:03\n",
      "   ------------------ -------------------- 183.7/377.1 MB 43.7 MB/s eta 0:00:05\n",
      "   ------------------- ------------------- 186.7/377.1 MB 40.9 MB/s eta 0:00:05\n",
      "   ------------------- ------------------- 189.0/377.1 MB 40.9 MB/s eta 0:00:05\n",
      "   ------------------- ------------------- 190.9/377.1 MB 40.9 MB/s eta 0:00:05\n",
      "   -------------------- ------------------ 193.5/377.1 MB 38.5 MB/s eta 0:00:05\n",
      "   -------------------- ------------------ 196.1/377.1 MB 65.6 MB/s eta 0:00:03\n",
      "   -------------------- ------------------ 197.6/377.1 MB 54.7 MB/s eta 0:00:04\n",
      "   -------------------- ------------------ 198.0/377.1 MB 46.9 MB/s eta 0:00:04\n",
      "   -------------------- ------------------ 199.4/377.1 MB 46.7 MB/s eta 0:00:04\n",
      "   -------------------- ------------------ 200.7/377.1 MB 43.5 MB/s eta 0:00:05\n",
      "   -------------------- ------------------ 202.1/377.1 MB 40.9 MB/s eta 0:00:05\n",
      "   --------------------- ----------------- 203.5/377.1 MB 40.9 MB/s eta 0:00:05\n",
      "   --------------------- ----------------- 205.1/377.1 MB 36.4 MB/s eta 0:00:05\n",
      "   --------------------- ----------------- 206.4/377.1 MB 36.4 MB/s eta 0:00:05\n",
      "   --------------------- ----------------- 207.7/377.1 MB 36.4 MB/s eta 0:00:05\n",
      "   --------------------- ----------------- 209.3/377.1 MB 38.6 MB/s eta 0:00:05\n",
      "   --------------------- ----------------- 210.6/377.1 MB 38.5 MB/s eta 0:00:05\n",
      "   --------------------- ----------------- 212.0/377.1 MB 38.6 MB/s eta 0:00:05\n",
      "   ---------------------- ---------------- 213.5/377.1 MB 38.5 MB/s eta 0:00:05\n",
      "   ---------------------- ---------------- 214.9/377.1 MB 40.9 MB/s eta 0:00:04\n",
      "   ---------------------- ---------------- 216.2/377.1 MB 38.6 MB/s eta 0:00:05\n",
      "   ---------------------- ---------------- 217.6/377.1 MB 38.5 MB/s eta 0:00:05\n",
      "   ---------------------- ---------------- 218.9/377.1 MB 38.6 MB/s eta 0:00:05\n",
      "   ---------------------- ---------------- 220.6/377.1 MB 38.6 MB/s eta 0:00:05\n",
      "   ---------------------- ---------------- 222.0/377.1 MB 38.6 MB/s eta 0:00:05\n",
      "   ----------------------- --------------- 223.6/377.1 MB 40.9 MB/s eta 0:00:04\n",
      "   ----------------------- --------------- 225.9/377.1 MB 43.5 MB/s eta 0:00:04\n",
      "   ----------------------- --------------- 228.1/377.1 MB 50.4 MB/s eta 0:00:03\n",
      "   ----------------------- --------------- 230.5/377.1 MB 54.4 MB/s eta 0:00:03\n",
      "   ------------------------ -------------- 232.5/377.1 MB 59.5 MB/s eta 0:00:03\n",
      "   ------------------------ -------------- 234.5/377.1 MB 65.6 MB/s eta 0:00:03\n",
      "   ------------------------ -------------- 236.2/377.1 MB 54.7 MB/s eta 0:00:03\n",
      "   ------------------------ -------------- 237.9/377.1 MB 54.7 MB/s eta 0:00:03\n",
      "   ------------------------ -------------- 239.7/377.1 MB 50.4 MB/s eta 0:00:03\n",
      "   ------------------------ -------------- 240.8/377.1 MB 46.9 MB/s eta 0:00:03\n",
      "   ------------------------- ------------- 243.0/377.1 MB 46.7 MB/s eta 0:00:03\n",
      "   ------------------------- ------------- 245.3/377.1 MB 46.7 MB/s eta 0:00:03\n",
      "   ------------------------- ------------- 247.4/377.1 MB 46.9 MB/s eta 0:00:03\n",
      "   ------------------------- ------------- 250.2/377.1 MB 54.4 MB/s eta 0:00:03\n",
      "   -------------------------- ------------ 252.6/377.1 MB 65.6 MB/s eta 0:00:02\n",
      "   -------------------------- ------------ 255.2/377.1 MB 65.6 MB/s eta 0:00:02\n",
      "   -------------------------- ------------ 257.5/377.1 MB 65.6 MB/s eta 0:00:02\n",
      "   -------------------------- ------------ 259.7/377.1 MB 59.5 MB/s eta 0:00:02\n",
      "   --------------------------- ----------- 262.1/377.1 MB 65.6 MB/s eta 0:00:02\n",
      "   --------------------------- ----------- 264.9/377.1 MB 65.6 MB/s eta 0:00:02\n",
      "   --------------------------- ----------- 267.1/377.1 MB 65.6 MB/s eta 0:00:02\n",
      "   --------------------------- ----------- 268.6/377.1 MB 65.6 MB/s eta 0:00:02\n",
      "   --------------------------- ----------- 270.4/377.1 MB 59.8 MB/s eta 0:00:02\n",
      "   ---------------------------- ---------- 272.9/377.1 MB 59.5 MB/s eta 0:00:02\n",
      "   ---------------------------- ---------- 275.1/377.1 MB 54.4 MB/s eta 0:00:02\n",
      "   ---------------------------- ---------- 276.8/377.1 MB 50.4 MB/s eta 0:00:02\n",
      "   ---------------------------- ---------- 280.0/377.1 MB 65.6 MB/s eta 0:00:02\n",
      "   ----------------------------- --------- 281.7/377.1 MB 59.5 MB/s eta 0:00:02\n",
      "   ----------------------------- --------- 284.0/377.1 MB 59.5 MB/s eta 0:00:02\n",
      "   ----------------------------- --------- 286.3/377.1 MB 59.8 MB/s eta 0:00:02\n",
      "   ----------------------------- --------- 288.6/377.1 MB 59.5 MB/s eta 0:00:02\n",
      "   ------------------------------ -------- 291.2/377.1 MB 59.5 MB/s eta 0:00:02\n",
      "   ------------------------------ -------- 293.7/377.1 MB 59.8 MB/s eta 0:00:02\n",
      "   ------------------------------ -------- 296.2/377.1 MB 65.2 MB/s eta 0:00:02\n",
      "   ------------------------------ -------- 298.7/377.1 MB 65.2 MB/s eta 0:00:02\n",
      "   ------------------------------- ------- 301.2/377.1 MB 65.6 MB/s eta 0:00:02\n",
      "   ------------------------------- ------- 303.7/377.1 MB 65.6 MB/s eta 0:00:02\n",
      "   ------------------------------- ------- 306.4/377.1 MB 65.6 MB/s eta 0:00:02\n",
      "   ------------------------------- ------- 308.9/377.1 MB 73.1 MB/s eta 0:00:01\n",
      "   -------------------------------- ------ 311.5/377.1 MB 73.1 MB/s eta 0:00:01\n",
      "   -------------------------------- ------ 314.5/377.1 MB 65.6 MB/s eta 0:00:01\n",
      "   -------------------------------- ------ 315.0/377.1 MB 46.9 MB/s eta 0:00:02\n",
      "   -------------------------------- ------ 315.5/377.1 MB 40.9 MB/s eta 0:00:02\n",
      "   -------------------------------- ------ 317.5/377.1 MB 38.6 MB/s eta 0:00:02\n",
      "   --------------------------------- ----- 320.7/377.1 MB 38.5 MB/s eta 0:00:02\n",
      "   --------------------------------- ----- 323.3/377.1 MB 40.9 MB/s eta 0:00:02\n",
      "   --------------------------------- ----- 326.5/377.1 MB 73.1 MB/s eta 0:00:01\n",
      "   --------------------------------- ----- 328.3/377.1 MB 73.1 MB/s eta 0:00:01\n",
      "   ---------------------------------- ---- 330.1/377.1 MB 59.5 MB/s eta 0:00:01\n",
      "   ---------------------------------- ---- 331.4/377.1 MB 50.4 MB/s eta 0:00:01\n",
      "   ---------------------------------- ---- 332.5/377.1 MB 46.9 MB/s eta 0:00:01\n",
      "   ---------------------------------- ---- 334.4/377.1 MB 43.7 MB/s eta 0:00:01\n",
      "   ---------------------------------- ---- 336.2/377.1 MB 40.9 MB/s eta 0:00:01\n",
      "   ---------------------------------- ---- 338.2/377.1 MB 38.6 MB/s eta 0:00:02\n",
      "   ----------------------------------- --- 341.0/377.1 MB 50.4 MB/s eta 0:00:01\n",
      "   ----------------------------------- --- 344.1/377.1 MB 59.5 MB/s eta 0:00:01\n",
      "   ----------------------------------- --- 347.1/377.1 MB 72.6 MB/s eta 0:00:01\n",
      "   ------------------------------------ -- 350.2/377.1 MB 81.8 MB/s eta 0:00:01\n",
      "   ------------------------------------ -- 352.6/377.1 MB 81.8 MB/s eta 0:00:01\n",
      "   ------------------------------------ -- 355.0/377.1 MB 72.6 MB/s eta 0:00:01\n",
      "   ------------------------------------ -- 357.4/377.1 MB 72.6 MB/s eta 0:00:01\n",
      "   ------------------------------------- - 359.7/377.1 MB 65.6 MB/s eta 0:00:01\n",
      "   ------------------------------------- - 362.1/377.1 MB 59.5 MB/s eta 0:00:01\n",
      "   ------------------------------------- - 364.3/377.1 MB 65.6 MB/s eta 0:00:01\n",
      "   ------------------------------------- - 366.6/377.1 MB 59.5 MB/s eta 0:00:01\n",
      "   --------------------------------------  368.4/377.1 MB 59.5 MB/s eta 0:00:01\n",
      "   --------------------------------------  370.8/377.1 MB 54.7 MB/s eta 0:00:01\n",
      "   --------------------------------------  373.2/377.1 MB 59.5 MB/s eta 0:00:01\n",
      "   --------------------------------------  375.4/377.1 MB 59.5 MB/s eta 0:00:01\n",
      "   --------------------------------------  377.1/377.1 MB 59.5 MB/s eta 0:00:01\n",
      "   --------------------------------------  377.1/377.1 MB 59.5 MB/s eta 0:00:01\n",
      "   --------------------------------------  377.1/377.1 MB 59.5 MB/s eta 0:00:01\n",
      "   --------------------------------------  377.1/377.1 MB 59.5 MB/s eta 0:00:01\n",
      "   --------------------------------------  377.1/377.1 MB 59.5 MB/s eta 0:00:01\n",
      "   --------------------------------------  377.1/377.1 MB 59.5 MB/s eta 0:00:01\n",
      "   --------------------------------------  377.1/377.1 MB 59.5 MB/s eta 0:00:01\n",
      "   --------------------------------------  377.1/377.1 MB 59.5 MB/s eta 0:00:01\n",
      "   --------------------------------------  377.1/377.1 MB 59.5 MB/s eta 0:00:01\n",
      "   --------------------------------------  377.1/377.1 MB 59.5 MB/s eta 0:00:01\n",
      "   --------------------------------------  377.1/377.1 MB 59.5 MB/s eta 0:00:01\n",
      "   --------------------------------------  377.1/377.1 MB 59.5 MB/s eta 0:00:01\n",
      "   --------------------------------------  377.1/377.1 MB 59.5 MB/s eta 0:00:01\n",
      "   --------------------------------------  377.1/377.1 MB 59.5 MB/s eta 0:00:01\n",
      "   --------------------------------------  377.1/377.1 MB 59.5 MB/s eta 0:00:01\n",
      "   --------------------------------------  377.1/377.1 MB 59.5 MB/s eta 0:00:01\n",
      "   --------------------------------------  377.1/377.1 MB 59.5 MB/s eta 0:00:01\n",
      "   --------------------------------------  377.1/377.1 MB 59.5 MB/s eta 0:00:01\n",
      "   --------------------------------------  377.1/377.1 MB 59.5 MB/s eta 0:00:01\n",
      "   --------------------------------------  377.1/377.1 MB 59.5 MB/s eta 0:00:01\n",
      "   --------------------------------------  377.1/377.1 MB 59.5 MB/s eta 0:00:01\n",
      "   --------------------------------------  377.1/377.1 MB 59.5 MB/s eta 0:00:01\n",
      "   --------------------------------------  377.1/377.1 MB 59.5 MB/s eta 0:00:01\n",
      "   --------------------------------------  377.1/377.1 MB 59.5 MB/s eta 0:00:01\n",
      "   --------------------------------------  377.1/377.1 MB 59.5 MB/s eta 0:00:01\n",
      "   --------------------------------------  377.1/377.1 MB 59.5 MB/s eta 0:00:01\n",
      "   --------------------------------------  377.1/377.1 MB 59.5 MB/s eta 0:00:01\n",
      "   ---------------------------------------- 377.1/377.1 MB 5.6 MB/s eta 0:00:00\n",
      "Downloading ml_dtypes-0.3.2-cp312-cp312-win_amd64.whl (128 kB)\n",
      "   ---------------------------------------- 0.0/128.6 kB ? eta -:--:--\n",
      "   -------------------------------------- - 122.9/128.6 kB ? eta -:--:--\n",
      "   ---------------------------------------- 128.6/128.6 kB 2.5 MB/s eta 0:00:00\n",
      "Downloading astunparse-1.6.3-py2.py3-none-any.whl (12 kB)\n",
      "Downloading flatbuffers-24.3.25-py2.py3-none-any.whl (26 kB)\n",
      "Downloading gast-0.5.4-py3-none-any.whl (19 kB)\n",
      "Downloading google_pasta-0.2.0-py3-none-any.whl (57 kB)\n",
      "   ---------------------------------------- 0.0/57.5 kB ? eta -:--:--\n",
      "   ---------------------------------------- 57.5/57.5 kB 3.1 MB/s eta 0:00:00\n",
      "Downloading grpcio-1.64.1-cp312-cp312-win_amd64.whl (4.1 MB)\n",
      "   ---------------------------------------- 0.0/4.1 MB ? eta -:--:--\n",
      "   ------------------- -------------------- 2.0/4.1 MB 63.8 MB/s eta 0:00:01\n",
      "   -------------------------------------- - 3.9/4.1 MB 62.4 MB/s eta 0:00:01\n",
      "   ---------------------------------------  4.1/4.1 MB 52.1 MB/s eta 0:00:01\n",
      "   ---------------------------------------- 4.1/4.1 MB 37.3 MB/s eta 0:00:00\n",
      "Downloading libclang-18.1.1-py2.py3-none-win_amd64.whl (26.4 MB)\n",
      "   ---------------------------------------- 0.0/26.4 MB ? eta -:--:--\n",
      "   --- ------------------------------------ 2.0/26.4 MB 65.7 MB/s eta 0:00:01\n",
      "   ------ --------------------------------- 4.1/26.4 MB 53.0 MB/s eta 0:00:01\n",
      "   --------- ------------------------------ 6.5/26.4 MB 59.2 MB/s eta 0:00:01\n",
      "   ------------- -------------------------- 8.8/26.4 MB 56.2 MB/s eta 0:00:01\n",
      "   ---------------- ----------------------- 11.1/26.4 MB 59.5 MB/s eta 0:00:01\n",
      "   -------------------- ------------------- 13.4/26.4 MB 65.6 MB/s eta 0:00:01\n",
      "   ----------------------- ---------------- 15.7/26.4 MB 59.5 MB/s eta 0:00:01\n",
      "   --------------------------- ------------ 18.0/26.4 MB 65.2 MB/s eta 0:00:01\n",
      "   ------------------------------ --------- 20.1/26.4 MB 65.6 MB/s eta 0:00:01\n",
      "   --------------------------------- ------ 22.1/26.4 MB 59.5 MB/s eta 0:00:01\n",
      "   ------------------------------------- -- 24.5/26.4 MB 59.5 MB/s eta 0:00:01\n",
      "   ---------------------------------------  26.3/26.4 MB 54.4 MB/s eta 0:00:01\n",
      "   ---------------------------------------  26.4/26.4 MB 54.4 MB/s eta 0:00:01\n",
      "   ---------------------------------------  26.4/26.4 MB 54.4 MB/s eta 0:00:01\n",
      "   ---------------------------------------- 26.4/26.4 MB 34.4 MB/s eta 0:00:00\n",
      "Downloading opt_einsum-3.3.0-py3-none-any.whl (65 kB)\n",
      "   ---------------------------------------- 0.0/65.5 kB ? eta -:--:--\n",
      "   ---------------------------------------- 65.5/65.5 kB 3.5 MB/s eta 0:00:00\n",
      "Downloading protobuf-4.25.3-cp310-abi3-win_amd64.whl (413 kB)\n",
      "   ---------------------------------------- 0.0/413.4 kB ? eta -:--:--\n",
      "   ---------------------------------------  409.6/413.4 kB ? eta -:--:--\n",
      "   ---------------------------------------- 413.4/413.4 kB 5.2 MB/s eta 0:00:00\n",
      "Downloading tensorboard-2.16.2-py3-none-any.whl (5.5 MB)\n",
      "   ---------------------------------------- 0.0/5.5 MB ? eta -:--:--\n",
      "   ------------- -------------------------- 1.8/5.5 MB 59.1 MB/s eta 0:00:01\n",
      "   ----------------------------- ---------- 4.0/5.5 MB 64.9 MB/s eta 0:00:01\n",
      "   ---------------------------------------  5.5/5.5 MB 58.9 MB/s eta 0:00:01\n",
      "   ---------------------------------------- 5.5/5.5 MB 43.8 MB/s eta 0:00:00\n",
      "Downloading termcolor-2.4.0-py3-none-any.whl (7.7 kB)\n",
      "Downloading wrapt-1.16.0-cp312-cp312-win_amd64.whl (37 kB)\n",
      "Downloading Markdown-3.6-py3-none-any.whl (105 kB)\n",
      "   ---------------------------------------- 0.0/105.4 kB ? eta -:--:--\n",
      "   ---------------------------------------- 105.4/105.4 kB 3.1 MB/s eta 0:00:00\n",
      "Downloading tensorboard_data_server-0.7.2-py3-none-any.whl (2.4 kB)\n",
      "Downloading werkzeug-3.0.3-py3-none-any.whl (227 kB)\n",
      "   ---------------------------------------- 0.0/227.3 kB ? eta -:--:--\n",
      "   ---------------------------------------- 227.3/227.3 kB 7.0 MB/s eta 0:00:00\n",
      "Using cached wheel-0.43.0-py3-none-any.whl (65 kB)\n",
      "Installing collected packages: libclang, flatbuffers, wrapt, wheel, werkzeug, termcolor, tensorboard-data-server, protobuf, opt-einsum, ml-dtypes, markdown, grpcio, google-pasta, gast, tensorboard, astunparse, tensorflow-intel, tensorflow\n",
      "  Attempting uninstall: ml-dtypes\n",
      "    Found existing installation: ml-dtypes 0.4.0\n",
      "    Uninstalling ml-dtypes-0.4.0:\n",
      "      Successfully uninstalled ml-dtypes-0.4.0\n",
      "Successfully installed astunparse-1.6.3 flatbuffers-24.3.25 gast-0.5.4 google-pasta-0.2.0 grpcio-1.64.1 libclang-18.1.1 markdown-3.6 ml-dtypes-0.3.2 opt-einsum-3.3.0 protobuf-4.25.3 tensorboard-2.16.2 tensorboard-data-server-0.7.2 tensorflow-2.16.1 tensorflow-intel-2.16.1 termcolor-2.4.0 werkzeug-3.0.3 wheel-0.43.0 wrapt-1.16.0\n"
     ]
    }
   ],
   "execution_count": 4
  },
  {
   "cell_type": "code",
   "metadata": {
    "id": "xRRNrxsOp1JH",
    "colab_type": "code",
    "colab": {},
    "ExecuteTime": {
     "end_time": "2024-06-16T08:37:55.315842Z",
     "start_time": "2024-06-16T08:37:48.305915Z"
    }
   },
   "source": [
    "import torch\n",
    "from torch.utils.data import TensorDataset, DataLoader, RandomSampler, SequentialSampler\n",
    "from transformers import BertTokenizer, BertConfig\n",
    "from transformers import BertForTokenClassification, AdamW\n",
    "from transformers import get_linear_schedule_with_warmup\n",
    "\n",
    "from keras.preprocessing.sequence import pad_sequences\n",
    "from sklearn.model_selection import train_test_split\n",
    "from seqeval.metrics import f1_score, classification_report\n",
    "\n",
    "import numpy as np\n",
    "import matplotlib.pyplot as plt\n",
    "from tqdm import tqdm, trange\n",
    "\n",
    "import seaborn as sns\n",
    "\n",
    "sns.set(style='darkgrid')\n",
    "sns.set(font_scale=1.5)\n",
    "plt.rcParams[\"figure.figsize\"] = (12,6)"
   ],
   "outputs": [
    {
     "ename": "ModuleNotFoundError",
     "evalue": "No module named 'tensorflow'",
     "output_type": "error",
     "traceback": [
      "\u001B[1;31m---------------------------------------------------------------------------\u001B[0m",
      "\u001B[1;31mModuleNotFoundError\u001B[0m                       Traceback (most recent call last)",
      "Cell \u001B[1;32mIn[3], line 7\u001B[0m\n\u001B[0;32m      4\u001B[0m \u001B[38;5;28;01mfrom\u001B[39;00m \u001B[38;5;21;01mtransformers\u001B[39;00m \u001B[38;5;28;01mimport\u001B[39;00m BertForTokenClassification, AdamW\n\u001B[0;32m      5\u001B[0m \u001B[38;5;28;01mfrom\u001B[39;00m \u001B[38;5;21;01mtransformers\u001B[39;00m \u001B[38;5;28;01mimport\u001B[39;00m get_linear_schedule_with_warmup\n\u001B[1;32m----> 7\u001B[0m \u001B[38;5;28;01mfrom\u001B[39;00m \u001B[38;5;21;01mkeras\u001B[39;00m\u001B[38;5;21;01m.\u001B[39;00m\u001B[38;5;21;01mpreprocessing\u001B[39;00m\u001B[38;5;21;01m.\u001B[39;00m\u001B[38;5;21;01msequence\u001B[39;00m \u001B[38;5;28;01mimport\u001B[39;00m pad_sequences\n\u001B[0;32m      8\u001B[0m \u001B[38;5;28;01mfrom\u001B[39;00m \u001B[38;5;21;01msklearn\u001B[39;00m\u001B[38;5;21;01m.\u001B[39;00m\u001B[38;5;21;01mmodel_selection\u001B[39;00m \u001B[38;5;28;01mimport\u001B[39;00m train_test_split\n\u001B[0;32m      9\u001B[0m \u001B[38;5;28;01mfrom\u001B[39;00m \u001B[38;5;21;01mseqeval\u001B[39;00m\u001B[38;5;21;01m.\u001B[39;00m\u001B[38;5;21;01mmetrics\u001B[39;00m \u001B[38;5;28;01mimport\u001B[39;00m f1_score, classification_report\n",
      "File \u001B[1;32mC:\\source\\other\\NER_BERT_RU\\venv\\Lib\\site-packages\\keras\\__init__.py:10\u001B[0m\n\u001B[0;32m      7\u001B[0m \u001B[38;5;28;01mimport\u001B[39;00m \u001B[38;5;21;01mos\u001B[39;00m\n\u001B[0;32m      9\u001B[0m \u001B[38;5;66;03m# Import everything from /api/ into keras.\u001B[39;00m\n\u001B[1;32m---> 10\u001B[0m \u001B[38;5;28;01mfrom\u001B[39;00m \u001B[38;5;21;01mkeras\u001B[39;00m\u001B[38;5;21;01m.\u001B[39;00m\u001B[38;5;21;01mapi\u001B[39;00m \u001B[38;5;28;01mimport\u001B[39;00m \u001B[38;5;241m*\u001B[39m  \u001B[38;5;66;03m# noqa: F403\u001B[39;00m\n\u001B[0;32m     11\u001B[0m \u001B[38;5;28;01mfrom\u001B[39;00m \u001B[38;5;21;01mkeras\u001B[39;00m\u001B[38;5;21;01m.\u001B[39;00m\u001B[38;5;21;01mapi\u001B[39;00m \u001B[38;5;28;01mimport\u001B[39;00m __version__  \u001B[38;5;66;03m# Import * ignores names start with \"_\".\u001B[39;00m\n\u001B[0;32m     13\u001B[0m \u001B[38;5;66;03m# Add everything in /api/ to the module search path.\u001B[39;00m\n",
      "File \u001B[1;32mC:\\source\\other\\NER_BERT_RU\\venv\\Lib\\site-packages\\keras\\api\\__init__.py:8\u001B[0m\n\u001B[0;32m      1\u001B[0m \u001B[38;5;124;03m\"\"\"DO NOT EDIT.\u001B[39;00m\n\u001B[0;32m      2\u001B[0m \n\u001B[0;32m      3\u001B[0m \u001B[38;5;124;03mThis file was autogenerated. Do not edit it by hand,\u001B[39;00m\n\u001B[0;32m      4\u001B[0m \u001B[38;5;124;03msince your modifications would be overwritten.\u001B[39;00m\n\u001B[0;32m      5\u001B[0m \u001B[38;5;124;03m\"\"\"\u001B[39;00m\n\u001B[1;32m----> 8\u001B[0m \u001B[38;5;28;01mfrom\u001B[39;00m \u001B[38;5;21;01mkeras\u001B[39;00m\u001B[38;5;21;01m.\u001B[39;00m\u001B[38;5;21;01mapi\u001B[39;00m \u001B[38;5;28;01mimport\u001B[39;00m activations\n\u001B[0;32m      9\u001B[0m \u001B[38;5;28;01mfrom\u001B[39;00m \u001B[38;5;21;01mkeras\u001B[39;00m\u001B[38;5;21;01m.\u001B[39;00m\u001B[38;5;21;01mapi\u001B[39;00m \u001B[38;5;28;01mimport\u001B[39;00m applications\n\u001B[0;32m     10\u001B[0m \u001B[38;5;28;01mfrom\u001B[39;00m \u001B[38;5;21;01mkeras\u001B[39;00m\u001B[38;5;21;01m.\u001B[39;00m\u001B[38;5;21;01mapi\u001B[39;00m \u001B[38;5;28;01mimport\u001B[39;00m backend\n",
      "File \u001B[1;32mC:\\source\\other\\NER_BERT_RU\\venv\\Lib\\site-packages\\keras\\api\\activations\\__init__.py:7\u001B[0m\n\u001B[0;32m      1\u001B[0m \u001B[38;5;124;03m\"\"\"DO NOT EDIT.\u001B[39;00m\n\u001B[0;32m      2\u001B[0m \n\u001B[0;32m      3\u001B[0m \u001B[38;5;124;03mThis file was autogenerated. Do not edit it by hand,\u001B[39;00m\n\u001B[0;32m      4\u001B[0m \u001B[38;5;124;03msince your modifications would be overwritten.\u001B[39;00m\n\u001B[0;32m      5\u001B[0m \u001B[38;5;124;03m\"\"\"\u001B[39;00m\n\u001B[1;32m----> 7\u001B[0m \u001B[38;5;28;01mfrom\u001B[39;00m \u001B[38;5;21;01mkeras\u001B[39;00m\u001B[38;5;21;01m.\u001B[39;00m\u001B[38;5;21;01msrc\u001B[39;00m\u001B[38;5;21;01m.\u001B[39;00m\u001B[38;5;21;01mactivations\u001B[39;00m \u001B[38;5;28;01mimport\u001B[39;00m deserialize\n\u001B[0;32m      8\u001B[0m \u001B[38;5;28;01mfrom\u001B[39;00m \u001B[38;5;21;01mkeras\u001B[39;00m\u001B[38;5;21;01m.\u001B[39;00m\u001B[38;5;21;01msrc\u001B[39;00m\u001B[38;5;21;01m.\u001B[39;00m\u001B[38;5;21;01mactivations\u001B[39;00m \u001B[38;5;28;01mimport\u001B[39;00m get\n\u001B[0;32m      9\u001B[0m \u001B[38;5;28;01mfrom\u001B[39;00m \u001B[38;5;21;01mkeras\u001B[39;00m\u001B[38;5;21;01m.\u001B[39;00m\u001B[38;5;21;01msrc\u001B[39;00m\u001B[38;5;21;01m.\u001B[39;00m\u001B[38;5;21;01mactivations\u001B[39;00m \u001B[38;5;28;01mimport\u001B[39;00m serialize\n",
      "File \u001B[1;32mC:\\source\\other\\NER_BERT_RU\\venv\\Lib\\site-packages\\keras\\src\\__init__.py:1\u001B[0m\n\u001B[1;32m----> 1\u001B[0m \u001B[38;5;28;01mfrom\u001B[39;00m \u001B[38;5;21;01mkeras\u001B[39;00m\u001B[38;5;21;01m.\u001B[39;00m\u001B[38;5;21;01msrc\u001B[39;00m \u001B[38;5;28;01mimport\u001B[39;00m activations\n\u001B[0;32m      2\u001B[0m \u001B[38;5;28;01mfrom\u001B[39;00m \u001B[38;5;21;01mkeras\u001B[39;00m\u001B[38;5;21;01m.\u001B[39;00m\u001B[38;5;21;01msrc\u001B[39;00m \u001B[38;5;28;01mimport\u001B[39;00m applications\n\u001B[0;32m      3\u001B[0m \u001B[38;5;28;01mfrom\u001B[39;00m \u001B[38;5;21;01mkeras\u001B[39;00m\u001B[38;5;21;01m.\u001B[39;00m\u001B[38;5;21;01msrc\u001B[39;00m \u001B[38;5;28;01mimport\u001B[39;00m backend\n",
      "File \u001B[1;32mC:\\source\\other\\NER_BERT_RU\\venv\\Lib\\site-packages\\keras\\src\\activations\\__init__.py:3\u001B[0m\n\u001B[0;32m      1\u001B[0m \u001B[38;5;28;01mimport\u001B[39;00m \u001B[38;5;21;01mtypes\u001B[39;00m\n\u001B[1;32m----> 3\u001B[0m \u001B[38;5;28;01mfrom\u001B[39;00m \u001B[38;5;21;01mkeras\u001B[39;00m\u001B[38;5;21;01m.\u001B[39;00m\u001B[38;5;21;01msrc\u001B[39;00m\u001B[38;5;21;01m.\u001B[39;00m\u001B[38;5;21;01mactivations\u001B[39;00m\u001B[38;5;21;01m.\u001B[39;00m\u001B[38;5;21;01mactivations\u001B[39;00m \u001B[38;5;28;01mimport\u001B[39;00m elu\n\u001B[0;32m      4\u001B[0m \u001B[38;5;28;01mfrom\u001B[39;00m \u001B[38;5;21;01mkeras\u001B[39;00m\u001B[38;5;21;01m.\u001B[39;00m\u001B[38;5;21;01msrc\u001B[39;00m\u001B[38;5;21;01m.\u001B[39;00m\u001B[38;5;21;01mactivations\u001B[39;00m\u001B[38;5;21;01m.\u001B[39;00m\u001B[38;5;21;01mactivations\u001B[39;00m \u001B[38;5;28;01mimport\u001B[39;00m exponential\n\u001B[0;32m      5\u001B[0m \u001B[38;5;28;01mfrom\u001B[39;00m \u001B[38;5;21;01mkeras\u001B[39;00m\u001B[38;5;21;01m.\u001B[39;00m\u001B[38;5;21;01msrc\u001B[39;00m\u001B[38;5;21;01m.\u001B[39;00m\u001B[38;5;21;01mactivations\u001B[39;00m\u001B[38;5;21;01m.\u001B[39;00m\u001B[38;5;21;01mactivations\u001B[39;00m \u001B[38;5;28;01mimport\u001B[39;00m gelu\n",
      "File \u001B[1;32mC:\\source\\other\\NER_BERT_RU\\venv\\Lib\\site-packages\\keras\\src\\activations\\activations.py:1\u001B[0m\n\u001B[1;32m----> 1\u001B[0m \u001B[38;5;28;01mfrom\u001B[39;00m \u001B[38;5;21;01mkeras\u001B[39;00m\u001B[38;5;21;01m.\u001B[39;00m\u001B[38;5;21;01msrc\u001B[39;00m \u001B[38;5;28;01mimport\u001B[39;00m backend\n\u001B[0;32m      2\u001B[0m \u001B[38;5;28;01mfrom\u001B[39;00m \u001B[38;5;21;01mkeras\u001B[39;00m\u001B[38;5;21;01m.\u001B[39;00m\u001B[38;5;21;01msrc\u001B[39;00m \u001B[38;5;28;01mimport\u001B[39;00m ops\n\u001B[0;32m      3\u001B[0m \u001B[38;5;28;01mfrom\u001B[39;00m \u001B[38;5;21;01mkeras\u001B[39;00m\u001B[38;5;21;01m.\u001B[39;00m\u001B[38;5;21;01msrc\u001B[39;00m\u001B[38;5;21;01m.\u001B[39;00m\u001B[38;5;21;01mapi_export\u001B[39;00m \u001B[38;5;28;01mimport\u001B[39;00m keras_export\n",
      "File \u001B[1;32mC:\\source\\other\\NER_BERT_RU\\venv\\Lib\\site-packages\\keras\\src\\backend\\__init__.py:9\u001B[0m\n\u001B[0;32m      3\u001B[0m \u001B[38;5;28;01mif\u001B[39;00m backend() \u001B[38;5;241m==\u001B[39m \u001B[38;5;124m\"\u001B[39m\u001B[38;5;124mtorch\u001B[39m\u001B[38;5;124m\"\u001B[39m:\n\u001B[0;32m      4\u001B[0m     \u001B[38;5;66;03m# When using the torch backend,\u001B[39;00m\n\u001B[0;32m      5\u001B[0m     \u001B[38;5;66;03m# torch needs to be imported first, otherwise it will segfault\u001B[39;00m\n\u001B[0;32m      6\u001B[0m     \u001B[38;5;66;03m# upon import.\u001B[39;00m\n\u001B[0;32m      7\u001B[0m     \u001B[38;5;28;01mimport\u001B[39;00m \u001B[38;5;21;01mtorch\u001B[39;00m\n\u001B[1;32m----> 9\u001B[0m \u001B[38;5;28;01mfrom\u001B[39;00m \u001B[38;5;21;01mkeras\u001B[39;00m\u001B[38;5;21;01m.\u001B[39;00m\u001B[38;5;21;01msrc\u001B[39;00m\u001B[38;5;21;01m.\u001B[39;00m\u001B[38;5;21;01mbackend\u001B[39;00m\u001B[38;5;21;01m.\u001B[39;00m\u001B[38;5;21;01mcommon\u001B[39;00m\u001B[38;5;21;01m.\u001B[39;00m\u001B[38;5;21;01mdtypes\u001B[39;00m \u001B[38;5;28;01mimport\u001B[39;00m result_type\n\u001B[0;32m     10\u001B[0m \u001B[38;5;28;01mfrom\u001B[39;00m \u001B[38;5;21;01mkeras\u001B[39;00m\u001B[38;5;21;01m.\u001B[39;00m\u001B[38;5;21;01msrc\u001B[39;00m\u001B[38;5;21;01m.\u001B[39;00m\u001B[38;5;21;01mbackend\u001B[39;00m\u001B[38;5;21;01m.\u001B[39;00m\u001B[38;5;21;01mcommon\u001B[39;00m\u001B[38;5;21;01m.\u001B[39;00m\u001B[38;5;21;01mkeras_tensor\u001B[39;00m \u001B[38;5;28;01mimport\u001B[39;00m KerasTensor\n\u001B[0;32m     11\u001B[0m \u001B[38;5;28;01mfrom\u001B[39;00m \u001B[38;5;21;01mkeras\u001B[39;00m\u001B[38;5;21;01m.\u001B[39;00m\u001B[38;5;21;01msrc\u001B[39;00m\u001B[38;5;21;01m.\u001B[39;00m\u001B[38;5;21;01mbackend\u001B[39;00m\u001B[38;5;21;01m.\u001B[39;00m\u001B[38;5;21;01mcommon\u001B[39;00m\u001B[38;5;21;01m.\u001B[39;00m\u001B[38;5;21;01mkeras_tensor\u001B[39;00m \u001B[38;5;28;01mimport\u001B[39;00m any_symbolic_tensors\n",
      "File \u001B[1;32mC:\\source\\other\\NER_BERT_RU\\venv\\Lib\\site-packages\\keras\\src\\backend\\common\\__init__.py:2\u001B[0m\n\u001B[0;32m      1\u001B[0m \u001B[38;5;28;01mfrom\u001B[39;00m \u001B[38;5;21;01mkeras\u001B[39;00m\u001B[38;5;21;01m.\u001B[39;00m\u001B[38;5;21;01msrc\u001B[39;00m\u001B[38;5;21;01m.\u001B[39;00m\u001B[38;5;21;01mbackend\u001B[39;00m\u001B[38;5;21;01m.\u001B[39;00m\u001B[38;5;21;01mcommon\u001B[39;00m \u001B[38;5;28;01mimport\u001B[39;00m backend_utils\n\u001B[1;32m----> 2\u001B[0m \u001B[38;5;28;01mfrom\u001B[39;00m \u001B[38;5;21;01mkeras\u001B[39;00m\u001B[38;5;21;01m.\u001B[39;00m\u001B[38;5;21;01msrc\u001B[39;00m\u001B[38;5;21;01m.\u001B[39;00m\u001B[38;5;21;01mbackend\u001B[39;00m\u001B[38;5;21;01m.\u001B[39;00m\u001B[38;5;21;01mcommon\u001B[39;00m\u001B[38;5;21;01m.\u001B[39;00m\u001B[38;5;21;01mdtypes\u001B[39;00m \u001B[38;5;28;01mimport\u001B[39;00m result_type\n\u001B[0;32m      3\u001B[0m \u001B[38;5;28;01mfrom\u001B[39;00m \u001B[38;5;21;01mkeras\u001B[39;00m\u001B[38;5;21;01m.\u001B[39;00m\u001B[38;5;21;01msrc\u001B[39;00m\u001B[38;5;21;01m.\u001B[39;00m\u001B[38;5;21;01mbackend\u001B[39;00m\u001B[38;5;21;01m.\u001B[39;00m\u001B[38;5;21;01mcommon\u001B[39;00m\u001B[38;5;21;01m.\u001B[39;00m\u001B[38;5;21;01mvariables\u001B[39;00m \u001B[38;5;28;01mimport\u001B[39;00m AutocastScope\n\u001B[0;32m      4\u001B[0m \u001B[38;5;28;01mfrom\u001B[39;00m \u001B[38;5;21;01mkeras\u001B[39;00m\u001B[38;5;21;01m.\u001B[39;00m\u001B[38;5;21;01msrc\u001B[39;00m\u001B[38;5;21;01m.\u001B[39;00m\u001B[38;5;21;01mbackend\u001B[39;00m\u001B[38;5;21;01m.\u001B[39;00m\u001B[38;5;21;01mcommon\u001B[39;00m\u001B[38;5;21;01m.\u001B[39;00m\u001B[38;5;21;01mvariables\u001B[39;00m \u001B[38;5;28;01mimport\u001B[39;00m KerasVariable\n",
      "File \u001B[1;32mC:\\source\\other\\NER_BERT_RU\\venv\\Lib\\site-packages\\keras\\src\\backend\\common\\dtypes.py:5\u001B[0m\n\u001B[0;32m      3\u001B[0m \u001B[38;5;28;01mfrom\u001B[39;00m \u001B[38;5;21;01mkeras\u001B[39;00m\u001B[38;5;21;01m.\u001B[39;00m\u001B[38;5;21;01msrc\u001B[39;00m\u001B[38;5;21;01m.\u001B[39;00m\u001B[38;5;21;01mapi_export\u001B[39;00m \u001B[38;5;28;01mimport\u001B[39;00m keras_export\n\u001B[0;32m      4\u001B[0m \u001B[38;5;28;01mfrom\u001B[39;00m \u001B[38;5;21;01mkeras\u001B[39;00m\u001B[38;5;21;01m.\u001B[39;00m\u001B[38;5;21;01msrc\u001B[39;00m\u001B[38;5;21;01m.\u001B[39;00m\u001B[38;5;21;01mbackend\u001B[39;00m \u001B[38;5;28;01mimport\u001B[39;00m config\n\u001B[1;32m----> 5\u001B[0m \u001B[38;5;28;01mfrom\u001B[39;00m \u001B[38;5;21;01mkeras\u001B[39;00m\u001B[38;5;21;01m.\u001B[39;00m\u001B[38;5;21;01msrc\u001B[39;00m\u001B[38;5;21;01m.\u001B[39;00m\u001B[38;5;21;01mbackend\u001B[39;00m\u001B[38;5;21;01m.\u001B[39;00m\u001B[38;5;21;01mcommon\u001B[39;00m\u001B[38;5;21;01m.\u001B[39;00m\u001B[38;5;21;01mvariables\u001B[39;00m \u001B[38;5;28;01mimport\u001B[39;00m standardize_dtype\n\u001B[0;32m      7\u001B[0m BOOL_TYPES \u001B[38;5;241m=\u001B[39m (\u001B[38;5;124m\"\u001B[39m\u001B[38;5;124mbool\u001B[39m\u001B[38;5;124m\"\u001B[39m,)\n\u001B[0;32m      8\u001B[0m INT_TYPES \u001B[38;5;241m=\u001B[39m (\n\u001B[0;32m      9\u001B[0m     \u001B[38;5;124m\"\u001B[39m\u001B[38;5;124muint8\u001B[39m\u001B[38;5;124m\"\u001B[39m,\n\u001B[0;32m     10\u001B[0m     \u001B[38;5;124m\"\u001B[39m\u001B[38;5;124muint16\u001B[39m\u001B[38;5;124m\"\u001B[39m,\n\u001B[1;32m   (...)\u001B[0m\n\u001B[0;32m     16\u001B[0m     \u001B[38;5;124m\"\u001B[39m\u001B[38;5;124mint64\u001B[39m\u001B[38;5;124m\"\u001B[39m,\n\u001B[0;32m     17\u001B[0m )\n",
      "File \u001B[1;32mC:\\source\\other\\NER_BERT_RU\\venv\\Lib\\site-packages\\keras\\src\\backend\\common\\variables.py:10\u001B[0m\n\u001B[0;32m      8\u001B[0m \u001B[38;5;28;01mfrom\u001B[39;00m \u001B[38;5;21;01mkeras\u001B[39;00m\u001B[38;5;21;01m.\u001B[39;00m\u001B[38;5;21;01msrc\u001B[39;00m\u001B[38;5;21;01m.\u001B[39;00m\u001B[38;5;21;01mbackend\u001B[39;00m\u001B[38;5;21;01m.\u001B[39;00m\u001B[38;5;21;01mcommon\u001B[39;00m\u001B[38;5;21;01m.\u001B[39;00m\u001B[38;5;21;01mstateless_scope\u001B[39;00m \u001B[38;5;28;01mimport\u001B[39;00m get_stateless_scope\n\u001B[0;32m      9\u001B[0m \u001B[38;5;28;01mfrom\u001B[39;00m \u001B[38;5;21;01mkeras\u001B[39;00m\u001B[38;5;21;01m.\u001B[39;00m\u001B[38;5;21;01msrc\u001B[39;00m\u001B[38;5;21;01m.\u001B[39;00m\u001B[38;5;21;01mbackend\u001B[39;00m\u001B[38;5;21;01m.\u001B[39;00m\u001B[38;5;21;01mcommon\u001B[39;00m\u001B[38;5;21;01m.\u001B[39;00m\u001B[38;5;21;01mstateless_scope\u001B[39;00m \u001B[38;5;28;01mimport\u001B[39;00m in_stateless_scope\n\u001B[1;32m---> 10\u001B[0m \u001B[38;5;28;01mfrom\u001B[39;00m \u001B[38;5;21;01mkeras\u001B[39;00m\u001B[38;5;21;01m.\u001B[39;00m\u001B[38;5;21;01msrc\u001B[39;00m\u001B[38;5;21;01m.\u001B[39;00m\u001B[38;5;21;01mutils\u001B[39;00m\u001B[38;5;21;01m.\u001B[39;00m\u001B[38;5;21;01mmodule_utils\u001B[39;00m \u001B[38;5;28;01mimport\u001B[39;00m tensorflow \u001B[38;5;28;01mas\u001B[39;00m tf\n\u001B[0;32m     11\u001B[0m \u001B[38;5;28;01mfrom\u001B[39;00m \u001B[38;5;21;01mkeras\u001B[39;00m\u001B[38;5;21;01m.\u001B[39;00m\u001B[38;5;21;01msrc\u001B[39;00m\u001B[38;5;21;01m.\u001B[39;00m\u001B[38;5;21;01mutils\u001B[39;00m\u001B[38;5;21;01m.\u001B[39;00m\u001B[38;5;21;01mnaming\u001B[39;00m \u001B[38;5;28;01mimport\u001B[39;00m auto_name\n\u001B[0;32m     14\u001B[0m \u001B[38;5;28;01mclass\u001B[39;00m \u001B[38;5;21;01mKerasVariable\u001B[39;00m:\n",
      "File \u001B[1;32mC:\\source\\other\\NER_BERT_RU\\venv\\Lib\\site-packages\\keras\\src\\utils\\__init__.py:12\u001B[0m\n\u001B[0;32m     10\u001B[0m \u001B[38;5;28;01mfrom\u001B[39;00m \u001B[38;5;21;01mkeras\u001B[39;00m\u001B[38;5;21;01m.\u001B[39;00m\u001B[38;5;21;01msrc\u001B[39;00m\u001B[38;5;21;01m.\u001B[39;00m\u001B[38;5;21;01mutils\u001B[39;00m\u001B[38;5;21;01m.\u001B[39;00m\u001B[38;5;21;01mio_utils\u001B[39;00m \u001B[38;5;28;01mimport\u001B[39;00m enable_interactive_logging\n\u001B[0;32m     11\u001B[0m \u001B[38;5;28;01mfrom\u001B[39;00m \u001B[38;5;21;01mkeras\u001B[39;00m\u001B[38;5;21;01m.\u001B[39;00m\u001B[38;5;21;01msrc\u001B[39;00m\u001B[38;5;21;01m.\u001B[39;00m\u001B[38;5;21;01mutils\u001B[39;00m\u001B[38;5;21;01m.\u001B[39;00m\u001B[38;5;21;01mio_utils\u001B[39;00m \u001B[38;5;28;01mimport\u001B[39;00m is_interactive_logging_enabled\n\u001B[1;32m---> 12\u001B[0m \u001B[38;5;28;01mfrom\u001B[39;00m \u001B[38;5;21;01mkeras\u001B[39;00m\u001B[38;5;21;01m.\u001B[39;00m\u001B[38;5;21;01msrc\u001B[39;00m\u001B[38;5;21;01m.\u001B[39;00m\u001B[38;5;21;01mutils\u001B[39;00m\u001B[38;5;21;01m.\u001B[39;00m\u001B[38;5;21;01mmodel_visualization\u001B[39;00m \u001B[38;5;28;01mimport\u001B[39;00m model_to_dot\n\u001B[0;32m     13\u001B[0m \u001B[38;5;28;01mfrom\u001B[39;00m \u001B[38;5;21;01mkeras\u001B[39;00m\u001B[38;5;21;01m.\u001B[39;00m\u001B[38;5;21;01msrc\u001B[39;00m\u001B[38;5;21;01m.\u001B[39;00m\u001B[38;5;21;01mutils\u001B[39;00m\u001B[38;5;21;01m.\u001B[39;00m\u001B[38;5;21;01mmodel_visualization\u001B[39;00m \u001B[38;5;28;01mimport\u001B[39;00m plot_model\n\u001B[0;32m     14\u001B[0m \u001B[38;5;28;01mfrom\u001B[39;00m \u001B[38;5;21;01mkeras\u001B[39;00m\u001B[38;5;21;01m.\u001B[39;00m\u001B[38;5;21;01msrc\u001B[39;00m\u001B[38;5;21;01m.\u001B[39;00m\u001B[38;5;21;01mutils\u001B[39;00m\u001B[38;5;21;01m.\u001B[39;00m\u001B[38;5;21;01mnumerical_utils\u001B[39;00m \u001B[38;5;28;01mimport\u001B[39;00m normalize\n",
      "File \u001B[1;32mC:\\source\\other\\NER_BERT_RU\\venv\\Lib\\site-packages\\keras\\src\\utils\\model_visualization.py:6\u001B[0m\n\u001B[0;32m      3\u001B[0m \u001B[38;5;28;01mimport\u001B[39;00m \u001B[38;5;21;01mos\u001B[39;00m\n\u001B[0;32m      4\u001B[0m \u001B[38;5;28;01mimport\u001B[39;00m \u001B[38;5;21;01msys\u001B[39;00m\n\u001B[1;32m----> 6\u001B[0m \u001B[38;5;28;01mfrom\u001B[39;00m \u001B[38;5;21;01mkeras\u001B[39;00m\u001B[38;5;21;01m.\u001B[39;00m\u001B[38;5;21;01msrc\u001B[39;00m \u001B[38;5;28;01mimport\u001B[39;00m tree\n\u001B[0;32m      7\u001B[0m \u001B[38;5;28;01mfrom\u001B[39;00m \u001B[38;5;21;01mkeras\u001B[39;00m\u001B[38;5;21;01m.\u001B[39;00m\u001B[38;5;21;01msrc\u001B[39;00m\u001B[38;5;21;01m.\u001B[39;00m\u001B[38;5;21;01mapi_export\u001B[39;00m \u001B[38;5;28;01mimport\u001B[39;00m keras_export\n\u001B[0;32m      8\u001B[0m \u001B[38;5;28;01mfrom\u001B[39;00m \u001B[38;5;21;01mkeras\u001B[39;00m\u001B[38;5;21;01m.\u001B[39;00m\u001B[38;5;21;01msrc\u001B[39;00m\u001B[38;5;21;01m.\u001B[39;00m\u001B[38;5;21;01mutils\u001B[39;00m \u001B[38;5;28;01mimport\u001B[39;00m io_utils\n",
      "File \u001B[1;32mC:\\source\\other\\NER_BERT_RU\\venv\\Lib\\site-packages\\keras\\src\\tree\\__init__.py:1\u001B[0m\n\u001B[1;32m----> 1\u001B[0m \u001B[38;5;28;01mfrom\u001B[39;00m \u001B[38;5;21;01mkeras\u001B[39;00m\u001B[38;5;21;01m.\u001B[39;00m\u001B[38;5;21;01msrc\u001B[39;00m\u001B[38;5;21;01m.\u001B[39;00m\u001B[38;5;21;01mtree\u001B[39;00m\u001B[38;5;21;01m.\u001B[39;00m\u001B[38;5;21;01mtree_api\u001B[39;00m \u001B[38;5;28;01mimport\u001B[39;00m assert_same_structure\n\u001B[0;32m      2\u001B[0m \u001B[38;5;28;01mfrom\u001B[39;00m \u001B[38;5;21;01mkeras\u001B[39;00m\u001B[38;5;21;01m.\u001B[39;00m\u001B[38;5;21;01msrc\u001B[39;00m\u001B[38;5;21;01m.\u001B[39;00m\u001B[38;5;21;01mtree\u001B[39;00m\u001B[38;5;21;01m.\u001B[39;00m\u001B[38;5;21;01mtree_api\u001B[39;00m \u001B[38;5;28;01mimport\u001B[39;00m flatten\n\u001B[0;32m      3\u001B[0m \u001B[38;5;28;01mfrom\u001B[39;00m \u001B[38;5;21;01mkeras\u001B[39;00m\u001B[38;5;21;01m.\u001B[39;00m\u001B[38;5;21;01msrc\u001B[39;00m\u001B[38;5;21;01m.\u001B[39;00m\u001B[38;5;21;01mtree\u001B[39;00m\u001B[38;5;21;01m.\u001B[39;00m\u001B[38;5;21;01mtree_api\u001B[39;00m \u001B[38;5;28;01mimport\u001B[39;00m is_nested\n",
      "File \u001B[1;32mC:\\source\\other\\NER_BERT_RU\\venv\\Lib\\site-packages\\keras\\src\\tree\\tree_api.py:6\u001B[0m\n\u001B[0;32m      3\u001B[0m \u001B[38;5;28;01mfrom\u001B[39;00m \u001B[38;5;21;01mkeras\u001B[39;00m\u001B[38;5;21;01m.\u001B[39;00m\u001B[38;5;21;01msrc\u001B[39;00m\u001B[38;5;21;01m.\u001B[39;00m\u001B[38;5;21;01mutils\u001B[39;00m\u001B[38;5;21;01m.\u001B[39;00m\u001B[38;5;21;01mmodule_utils\u001B[39;00m \u001B[38;5;28;01mimport\u001B[39;00m optree\n\u001B[0;32m      5\u001B[0m \u001B[38;5;28;01mif\u001B[39;00m optree\u001B[38;5;241m.\u001B[39mavailable:\n\u001B[1;32m----> 6\u001B[0m     \u001B[38;5;28;01mfrom\u001B[39;00m \u001B[38;5;21;01mkeras\u001B[39;00m\u001B[38;5;21;01m.\u001B[39;00m\u001B[38;5;21;01msrc\u001B[39;00m\u001B[38;5;21;01m.\u001B[39;00m\u001B[38;5;21;01mtree\u001B[39;00m \u001B[38;5;28;01mimport\u001B[39;00m optree_impl \u001B[38;5;28;01mas\u001B[39;00m tree_impl\n\u001B[0;32m      7\u001B[0m \u001B[38;5;28;01melif\u001B[39;00m dmtree\u001B[38;5;241m.\u001B[39mavailable:\n\u001B[0;32m      8\u001B[0m     \u001B[38;5;28;01mfrom\u001B[39;00m \u001B[38;5;21;01mkeras\u001B[39;00m\u001B[38;5;21;01m.\u001B[39;00m\u001B[38;5;21;01msrc\u001B[39;00m\u001B[38;5;21;01m.\u001B[39;00m\u001B[38;5;21;01mtree\u001B[39;00m \u001B[38;5;28;01mimport\u001B[39;00m dmtree_impl \u001B[38;5;28;01mas\u001B[39;00m tree_impl\n",
      "File \u001B[1;32mC:\\source\\other\\NER_BERT_RU\\venv\\Lib\\site-packages\\keras\\src\\tree\\optree_impl.py:17\u001B[0m\n\u001B[0;32m     15\u001B[0m \u001B[38;5;66;03m# Register backend-specific node classes\u001B[39;00m\n\u001B[0;32m     16\u001B[0m \u001B[38;5;28;01mif\u001B[39;00m backend() \u001B[38;5;241m==\u001B[39m \u001B[38;5;124m\"\u001B[39m\u001B[38;5;124mtensorflow\u001B[39m\u001B[38;5;124m\"\u001B[39m:\n\u001B[1;32m---> 17\u001B[0m     \u001B[38;5;28;01mfrom\u001B[39;00m \u001B[38;5;21;01mtensorflow\u001B[39;00m\u001B[38;5;21;01m.\u001B[39;00m\u001B[38;5;21;01mpython\u001B[39;00m\u001B[38;5;21;01m.\u001B[39;00m\u001B[38;5;21;01mtrackable\u001B[39;00m\u001B[38;5;21;01m.\u001B[39;00m\u001B[38;5;21;01mdata_structures\u001B[39;00m \u001B[38;5;28;01mimport\u001B[39;00m ListWrapper\n\u001B[0;32m     19\u001B[0m     optree\u001B[38;5;241m.\u001B[39mregister_pytree_node(\n\u001B[0;32m     20\u001B[0m         ListWrapper,\n\u001B[0;32m     21\u001B[0m         \u001B[38;5;28;01mlambda\u001B[39;00m x: (x, \u001B[38;5;28;01mNone\u001B[39;00m),\n\u001B[0;32m     22\u001B[0m         \u001B[38;5;28;01mlambda\u001B[39;00m metadata, children: ListWrapper(\u001B[38;5;28mlist\u001B[39m(children)),\n\u001B[0;32m     23\u001B[0m         namespace\u001B[38;5;241m=\u001B[39m\u001B[38;5;124m\"\u001B[39m\u001B[38;5;124mkeras\u001B[39m\u001B[38;5;124m\"\u001B[39m,\n\u001B[0;32m     24\u001B[0m     )\n\u001B[0;32m     27\u001B[0m \u001B[38;5;28;01mdef\u001B[39;00m \u001B[38;5;21mis_nested\u001B[39m(structure):\n",
      "\u001B[1;31mModuleNotFoundError\u001B[0m: No module named 'tensorflow'"
     ]
    }
   ],
   "execution_count": 3
  },
  {
   "cell_type": "code",
   "metadata": {
    "id": "d2afIyEirSdu",
    "colab_type": "code",
    "outputId": "2886a9a8-5749-4319-f4a1-97cf1415548d",
    "colab": {
     "base_uri": "https://localhost:8080/",
     "height": 51
    }
   },
   "source": [
    "device = 'cuda' if torch.cuda.is_available() else 'cpu'\n",
    "device = torch.device(device)\n",
    "\n",
    "print(device.type)\n",
    "if device.type == 'cuda':\n",
    "    print(torch.cuda.get_device_name(0))"
   ],
   "execution_count": 0,
   "outputs": [
    {
     "output_type": "stream",
     "text": [
      "cuda\n",
      "Tesla P100-PCIE-16GB\n"
     ],
     "name": "stdout"
    }
   ]
  },
  {
   "cell_type": "markdown",
   "metadata": {
    "id": "-CXcxMIjlFTf",
    "colab_type": "text"
   },
   "source": [
    "## Датасет"
   ]
  },
  {
   "cell_type": "markdown",
   "metadata": {
    "id": "p9Z2PVEGlLym",
    "colab_type": "text"
   },
   "source": [
    "Загрузим размеченный корпус:"
   ]
  },
  {
   "cell_type": "code",
   "metadata": {
    "id": "1uFYS6RTfzCz",
    "colab_type": "code",
    "colab": {}
   },
   "source": [
    "!wget -O '/content/drive/My Drive/colab_data/NER/data/aij-wikiner-ru-wp3.bz2' https://github.com/dice-group/FOX/raw/master/input/Wikiner/aij-wikiner-ru-wp3.bz2"
   ],
   "execution_count": 0,
   "outputs": []
  },
  {
   "cell_type": "code",
   "metadata": {
    "id": "kblFSmcYgAsP",
    "colab_type": "code",
    "colab": {}
   },
   "source": [
    "!bunzip2 '/content/drive/My Drive/colab_data/NER/data/aij-wikiner-ru-wp3.bz2'"
   ],
   "execution_count": 0,
   "outputs": []
  },
  {
   "cell_type": "code",
   "metadata": {
    "id": "5brvLY1_hOSj",
    "colab_type": "code",
    "colab": {}
   },
   "source": [
    "!head '/content/drive/My Drive/colab_data/NER/data/aij-wikiner-ru-wp3'"
   ],
   "execution_count": 0,
   "outputs": []
  },
  {
   "cell_type": "markdown",
   "metadata": {
    "id": "QyA-s-MdlQfG",
    "colab_type": "text"
   },
   "source": [
    "Преобразуем загруженный датасет в удобный для работы вид."
   ]
  },
  {
   "cell_type": "code",
   "metadata": {
    "id": "FlnWhOTFjF1L",
    "colab_type": "code",
    "colab": {}
   },
   "source": [
    "sentences, labels = [], []\n",
    "tag_values = set()\n",
    "with open('/content/drive/My Drive/colab_data/NER/data/aij-wikiner-ru-wp3') as df:\n",
    "    for line in df:\n",
    "        sent_w = []\n",
    "        sent_t = []\n",
    "        sent = line.split()\n",
    "        for s in sent:\n",
    "            tag = s.split('|')\n",
    "            sent_w.append(tag[0])\n",
    "            sent_t.append(tag[2])\n",
    "            if len(tag[2]) > 0:\n",
    "                tag_values.update([tag[2]])\n",
    "        if len(sent_w) == len(sent_t) and len(sent_w) > 0:\n",
    "            sentences.append(sent_w)\n",
    "            labels.append(sent_t)"
   ],
   "execution_count": 0,
   "outputs": []
  },
  {
   "cell_type": "code",
   "metadata": {
    "id": "jWttwagLlhZs",
    "colab_type": "code",
    "colab": {}
   },
   "source": [
    "assert len(sentences) == len(labels)"
   ],
   "execution_count": 0,
   "outputs": []
  },
  {
   "cell_type": "markdown",
   "metadata": {
    "id": "MBD-ps4ulZhB",
    "colab_type": "text"
   },
   "source": [
    "Количество сэмплов в нашей выборке:"
   ]
  },
  {
   "cell_type": "code",
   "metadata": {
    "id": "1TvCt955l3Mx",
    "colab_type": "code",
    "outputId": "b4e2666e-1480-4956-f54f-823742363d9f",
    "colab": {
     "base_uri": "https://localhost:8080/",
     "height": 34
    }
   },
   "source": [
    "len(sentences)"
   ],
   "execution_count": 0,
   "outputs": [
    {
     "output_type": "execute_result",
     "data": {
      "text/plain": [
       "203287"
      ]
     },
     "metadata": {
      "tags": []
     },
     "execution_count": 6
    }
   ]
  },
  {
   "cell_type": "markdown",
   "metadata": {
    "id": "pcMFIi79ln9U",
    "colab_type": "text"
   },
   "source": [
    "Посмотрим на один из примеров.\n",
    "\n",
    "Как видим, наш датасет не очень качественный. Так, например, токен `'Латвией'` помечен как `'I-LOC'`, хотя должен был бы быть помечен как `'B-LOC'`, но для нашего эксперимента такие данные тоже подойдут."
   ]
  },
  {
   "cell_type": "code",
   "metadata": {
    "id": "IbXWAI2xmDwn",
    "colab_type": "code",
    "outputId": "7c917609-a642-446d-856f-42a6b3c26679",
    "colab": {
     "base_uri": "https://localhost:8080/",
     "height": 71
    }
   },
   "source": [
    "print(sentences[0])\n",
    "print(labels[0])"
   ],
   "execution_count": 0,
   "outputs": [
    {
     "output_type": "stream",
     "text": [
      "['На', 'севере', 'граничит', 'с', 'Латвией', ',', 'на', 'востоке', '--', 'с', 'Белоруссией', ',', 'на', 'юго-западе', '--', 'c', 'Польшей', 'и', 'Калининградской', 'областью', 'России', '.']\n",
      "['O', 'O', 'O', 'O', 'I-LOC', 'O', 'O', 'O', 'O', 'O', 'I-LOC', 'O', 'O', 'O', 'O', 'O', 'I-LOC', 'O', 'I-LOC', 'I-LOC', 'B-LOC', 'O']\n"
     ],
     "name": "stdout"
    }
   ]
  },
  {
   "cell_type": "markdown",
   "metadata": {
    "id": "OCJMPwkumGti",
    "colab_type": "text"
   },
   "source": [
    "Существующие метки:"
   ]
  },
  {
   "cell_type": "code",
   "metadata": {
    "id": "gKlUMZMGmVR9",
    "colab_type": "code",
    "outputId": "5441f58c-b85c-40f8-ec75-722d3c6c1d04",
    "colab": {
     "base_uri": "https://localhost:8080/",
     "height": 34
    }
   },
   "source": [
    "tag_values"
   ],
   "execution_count": 0,
   "outputs": [
    {
     "output_type": "execute_result",
     "data": {
      "text/plain": [
       "{'B-LOC', 'B-MISC', 'B-ORG', 'B-PER', 'I-LOC', 'I-MISC', 'I-ORG', 'I-PER', 'O'}"
      ]
     },
     "metadata": {
      "tags": []
     },
     "execution_count": 8
    }
   ]
  },
  {
   "cell_type": "code",
   "metadata": {
    "id": "x_-NfGzaoYRu",
    "colab_type": "code",
    "colab": {}
   },
   "source": [
    "tag_values = list(tag_values)\n",
    "tag_values.append('PAD')\n",
    "tag2idx = {t: i for i, t in enumerate(tag_values)}"
   ],
   "execution_count": 0,
   "outputs": []
  },
  {
   "cell_type": "code",
   "metadata": {
    "id": "MTh37nCKpzfx",
    "colab_type": "code",
    "outputId": "979c75ea-5490-45b3-e2c6-cc452c747bc6",
    "colab": {
     "base_uri": "https://localhost:8080/",
     "height": 187
    }
   },
   "source": [
    "tag2idx"
   ],
   "execution_count": 0,
   "outputs": [
    {
     "output_type": "execute_result",
     "data": {
      "text/plain": [
       "{'B-LOC': 1,\n",
       " 'B-MISC': 8,\n",
       " 'B-ORG': 0,\n",
       " 'B-PER': 5,\n",
       " 'I-LOC': 2,\n",
       " 'I-MISC': 4,\n",
       " 'I-ORG': 6,\n",
       " 'I-PER': 7,\n",
       " 'O': 3,\n",
       " 'PAD': 9}"
      ]
     },
     "metadata": {
      "tags": []
     },
     "execution_count": 10
    }
   ]
  },
  {
   "cell_type": "markdown",
   "metadata": {
    "id": "htHN4E20mPKh",
    "colab_type": "text"
   },
   "source": [
    "## Токенизация"
   ]
  },
  {
   "cell_type": "markdown",
   "metadata": {
    "id": "5B1A430hmfyf",
    "colab_type": "text"
   },
   "source": [
    "Загрузим токенизатор:"
   ]
  },
  {
   "cell_type": "code",
   "metadata": {
    "id": "kBksY5snrmbi",
    "colab_type": "code",
    "outputId": "607f145f-40c4-4edc-ea8b-98d4c8f36405",
    "colab": {
     "base_uri": "https://localhost:8080/",
     "height": 66,
     "referenced_widgets": [
      "c4a7070d588647b7b87d2fb5137b8503",
      "7d0a3a2d4192497fad6fdbe582b51fde",
      "781b4704d2ac44cebcfe143fbb56ad24",
      "3c8f66a72cfd490eaa94556fb448a59e",
      "dfcdcc96d36d4f648d6ca84b05922c5d",
      "62ff1bb2d1844d6f855b9bee9cb5c5b5",
      "c0e7517393584b809d68166821200e0f",
      "c45ebf3a066a41498efed28782d93f65"
     ]
    }
   },
   "source": [
    "tokenizer = BertTokenizer.from_pretrained('bert-base-cased', do_lower_case=False)"
   ],
   "execution_count": 8,
   "outputs": [
    {
     "output_type": "display_data",
     "data": {
      "application/vnd.jupyter.widget-view+json": {
       "model_id": "c4a7070d588647b7b87d2fb5137b8503",
       "version_minor": 0,
       "version_major": 2
      },
      "text/plain": [
       "HBox(children=(IntProgress(value=0, description='Downloading', max=213450, style=ProgressStyle(description_wid…"
      ]
     },
     "metadata": {
      "tags": []
     }
    },
    {
     "output_type": "stream",
     "text": [
      "\n"
     ],
     "name": "stdout"
    }
   ]
  },
  {
   "cell_type": "markdown",
   "metadata": {
    "id": "2X62H9oLmlU0",
    "colab_type": "text"
   },
   "source": [
    "Токенизатор Берта использует subword-токенизацию, поэтому нам нужно будет расширить наши метки до размера токенизированного текста. (Для качественного датасета этот метод придётся немного изменить, но для нашей проверки возможностей Берта для NER мы делаем упрощение)."
   ]
  },
  {
   "cell_type": "code",
   "metadata": {
    "id": "nunRBktOr2-f",
    "colab_type": "code",
    "colab": {}
   },
   "source": [
    "def tokenize_and_preserve_labels(sentence, text_labels):\n",
    "    tokenized_sentence = []\n",
    "    labels = []\n",
    "\n",
    "    for word, label in zip(sentence, text_labels):\n",
    "\n",
    "        # Токенизируем слово, посчитаем кол-во токенов в слове\n",
    "        tokenized_word = tokenizer.tokenize(word)\n",
    "        n_subwords = len(tokenized_word)\n",
    "\n",
    "        # Добавим токены в общую последовательность токенов предложения\n",
    "        tokenized_sentence.extend(tokenized_word)\n",
    "\n",
    "        # Расшимим текущую метку до кол-во токенов в слове и добавим её в общую последовательность\n",
    "        labels.extend([label] * n_subwords)\n",
    "\n",
    "    return tokenized_sentence, labels"
   ],
   "execution_count": 0,
   "outputs": []
  },
  {
   "cell_type": "code",
   "metadata": {
    "id": "b23qpupGsYEa",
    "colab_type": "code",
    "outputId": "4ad66207-2594-4c33-b078-c5b337198447",
    "colab": {
     "base_uri": "https://localhost:8080/",
     "height": 51
    }
   },
   "source": [
    "%%time\n",
    "tokenized_texts_and_labels = [\n",
    "    tokenize_and_preserve_labels(sent, labs)\n",
    "    for sent, labs in zip(sentences, labels)\n",
    "]"
   ],
   "execution_count": 10,
   "outputs": [
    {
     "output_type": "stream",
     "text": [
      "CPU times: user 2min 32s, sys: 1.11 s, total: 2min 34s\n",
      "Wall time: 2min 34s\n"
     ],
     "name": "stdout"
    }
   ]
  },
  {
   "cell_type": "markdown",
   "metadata": {
    "id": "cgnBrc7Kntxu",
    "colab_type": "text"
   },
   "source": [
    "Теперь каждому токену соответствует определённая метка."
   ]
  },
  {
   "cell_type": "code",
   "metadata": {
    "id": "eY_Vy69Qsv6l",
    "colab_type": "code",
    "outputId": "d8d3f383-493c-4523-ad43-b30e94fe2c82",
    "colab": {
     "base_uri": "https://localhost:8080/",
     "height": 54
    }
   },
   "source": [
    "print(tokenized_texts_and_labels[0])"
   ],
   "execution_count": 0,
   "outputs": [
    {
     "output_type": "stream",
     "text": [
      "(['Н', '##а', 'с', '##е', '##в', '##е', '##р', '##е', 'г', '##р', '##а', '##н', '##и', '##ч', '##и', '##т', 'с', 'Л', '##а', '##т', '##в', '##и', '##е', '##й', ',', 'н', '##а', 'в', '##о', '##с', '##т', '##о', '##к', '##е', '-', '-', 'с', 'Б', '##е', '##л', '##о', '##р', '##у', '##с', '##с', '##и', '##е', '##й', ',', 'н', '##а', 'ю', '##г', '##о', '-', 'з', '##а', '##п', '##а', '##д', '##е', '-', '-', 'c', 'П', '##о', '##л', '##ь', '##ш', '##е', '##й', 'и', 'К', '##а', '##л', '##и', '##н', '##и', '##н', '##г', '##р', '##а', '##д', '##с', '##к', '##о', '##й', 'о', '##б', '##л', '##а', '##с', '##т', '##ь', '##ю', 'Р', '##о', '##с', '##с', '##и', '##и', '.'], ['O', 'O', 'O', 'O', 'O', 'O', 'O', 'O', 'O', 'O', 'O', 'O', 'O', 'O', 'O', 'O', 'O', 'I-LOC', 'I-LOC', 'I-LOC', 'I-LOC', 'I-LOC', 'I-LOC', 'I-LOC', 'O', 'O', 'O', 'O', 'O', 'O', 'O', 'O', 'O', 'O', 'O', 'O', 'O', 'I-LOC', 'I-LOC', 'I-LOC', 'I-LOC', 'I-LOC', 'I-LOC', 'I-LOC', 'I-LOC', 'I-LOC', 'I-LOC', 'I-LOC', 'O', 'O', 'O', 'O', 'O', 'O', 'O', 'O', 'O', 'O', 'O', 'O', 'O', 'O', 'O', 'O', 'I-LOC', 'I-LOC', 'I-LOC', 'I-LOC', 'I-LOC', 'I-LOC', 'I-LOC', 'O', 'I-LOC', 'I-LOC', 'I-LOC', 'I-LOC', 'I-LOC', 'I-LOC', 'I-LOC', 'I-LOC', 'I-LOC', 'I-LOC', 'I-LOC', 'I-LOC', 'I-LOC', 'I-LOC', 'I-LOC', 'I-LOC', 'I-LOC', 'I-LOC', 'I-LOC', 'I-LOC', 'I-LOC', 'I-LOC', 'I-LOC', 'B-LOC', 'B-LOC', 'B-LOC', 'B-LOC', 'B-LOC', 'B-LOC', 'O'])\n"
     ],
     "name": "stdout"
    }
   ]
  },
  {
   "cell_type": "markdown",
   "metadata": {
    "id": "yiHY28hKn284",
    "colab_type": "text"
   },
   "source": [
    "Определим размер входной последовательности. Максимальная длина последовательности, подаваемая Берту, - 512 токенов. Мы же определим свою длину для оптимизации вычислений."
   ]
  },
  {
   "cell_type": "code",
   "metadata": {
    "id": "LgVlOTfqqqSL",
    "colab_type": "code",
    "colab": {}
   },
   "source": [
    "lenths = [len(sent) for sent, _ in tokenized_texts_and_labels]"
   ],
   "execution_count": 0,
   "outputs": []
  },
  {
   "cell_type": "code",
   "metadata": {
    "id": "chwFxuF-uR2c",
    "colab_type": "code",
    "outputId": "2436fa41-44ae-46ea-e797-55a64c5dc9c1",
    "colab": {
     "base_uri": "https://localhost:8080/",
     "height": 34
    }
   },
   "source": [
    "print(min(lenths), np.mean(lenths), max(lenths), sep='|')"
   ],
   "execution_count": 16,
   "outputs": [
    {
     "output_type": "stream",
     "text": [
      "1|84.73471495963834|1031\n"
     ],
     "name": "stdout"
    }
   ]
  },
  {
   "cell_type": "markdown",
   "metadata": {
    "id": "EgqDCLnUoJx8",
    "colab_type": "text"
   },
   "source": [
    "Посмотрим, как распределяются длины наших токенов:"
   ]
  },
  {
   "cell_type": "code",
   "metadata": {
    "id": "TU09JBGTuUyk",
    "colab_type": "code",
    "outputId": "4c68f482-25bf-4968-91d6-1a3b4f68aae9",
    "colab": {
     "base_uri": "https://localhost:8080/",
     "height": 470
    }
   },
   "source": [
    "plt.hist(lenths)"
   ],
   "execution_count": 13,
   "outputs": [
    {
     "output_type": "execute_result",
     "data": {
      "text/plain": [
       "(array([1.46017e+05, 5.15310e+04, 5.07900e+03, 5.61000e+02, 7.50000e+01,\n",
       "        1.60000e+01, 4.00000e+00, 1.00000e+00, 1.00000e+00, 2.00000e+00]),\n",
       " array([1.000e+00, 1.040e+02, 2.070e+02, 3.100e+02, 4.130e+02, 5.160e+02,\n",
       "        6.190e+02, 7.220e+02, 8.250e+02, 9.280e+02, 1.031e+03]),\n",
       " <a list of 10 Patch objects>)"
      ]
     },
     "metadata": {
      "tags": []
     },
     "execution_count": 13
    },
    {
     "output_type": "display_data",
     "data": {
      "image/png": "[encoded data removed]",
      "text/plain": [
       "<Figure size 864x432 with 1 Axes>"
      ]
     },
     "metadata": {
      "tags": []
     }
    }
   ]
  },
  {
   "cell_type": "code",
   "metadata": {
    "id": "eCIjOVBfu0QQ",
    "colab_type": "code",
    "colab": {}
   },
   "source": [
    "# Cделаем размер последовательности 200\n",
    "MAX_LEN = 200\n",
    "# Батч, рекомендуемый разработчиками Берта - 32\n",
    "BATCH_SIZE = 32"
   ],
   "execution_count": 0,
   "outputs": []
  },
  {
   "cell_type": "code",
   "metadata": {
    "id": "O6ARTYH0vUtY",
    "colab_type": "code",
    "colab": {}
   },
   "source": [
    "tokenized_texts = [token for token, _ in tokenized_texts_and_labels]\n",
    "labels = [label for _, label in tokenized_texts_and_labels]\n",
    "\n",
    "assert len(tokenized_texts) == len(labels)"
   ],
   "execution_count": 0,
   "outputs": []
  },
  {
   "cell_type": "code",
   "metadata": {
    "id": "E7qKw4htvts6",
    "colab_type": "code",
    "outputId": "8d28add0-56ae-4902-a058-84163e5acc33",
    "colab": {
     "base_uri": "https://localhost:8080/",
     "height": 71
    }
   },
   "source": [
    "print(tokenized_texts[0])\n",
    "print(labels[0])"
   ],
   "execution_count": 0,
   "outputs": [
    {
     "output_type": "stream",
     "text": [
      "['Н', '##а', 'с', '##е', '##в', '##е', '##р', '##е', 'г', '##р', '##а', '##н', '##и', '##ч', '##и', '##т', 'с', 'Л', '##а', '##т', '##в', '##и', '##е', '##й', ',', 'н', '##а', 'в', '##о', '##с', '##т', '##о', '##к', '##е', '-', '-', 'с', 'Б', '##е', '##л', '##о', '##р', '##у', '##с', '##с', '##и', '##е', '##й', ',', 'н', '##а', 'ю', '##г', '##о', '-', 'з', '##а', '##п', '##а', '##д', '##е', '-', '-', 'c', 'П', '##о', '##л', '##ь', '##ш', '##е', '##й', 'и', 'К', '##а', '##л', '##и', '##н', '##и', '##н', '##г', '##р', '##а', '##д', '##с', '##к', '##о', '##й', 'о', '##б', '##л', '##а', '##с', '##т', '##ь', '##ю', 'Р', '##о', '##с', '##с', '##и', '##и', '.']\n",
      "['O', 'O', 'O', 'O', 'O', 'O', 'O', 'O', 'O', 'O', 'O', 'O', 'O', 'O', 'O', 'O', 'O', 'I-LOC', 'I-LOC', 'I-LOC', 'I-LOC', 'I-LOC', 'I-LOC', 'I-LOC', 'O', 'O', 'O', 'O', 'O', 'O', 'O', 'O', 'O', 'O', 'O', 'O', 'O', 'I-LOC', 'I-LOC', 'I-LOC', 'I-LOC', 'I-LOC', 'I-LOC', 'I-LOC', 'I-LOC', 'I-LOC', 'I-LOC', 'I-LOC', 'O', 'O', 'O', 'O', 'O', 'O', 'O', 'O', 'O', 'O', 'O', 'O', 'O', 'O', 'O', 'O', 'I-LOC', 'I-LOC', 'I-LOC', 'I-LOC', 'I-LOC', 'I-LOC', 'I-LOC', 'O', 'I-LOC', 'I-LOC', 'I-LOC', 'I-LOC', 'I-LOC', 'I-LOC', 'I-LOC', 'I-LOC', 'I-LOC', 'I-LOC', 'I-LOC', 'I-LOC', 'I-LOC', 'I-LOC', 'I-LOC', 'I-LOC', 'I-LOC', 'I-LOC', 'I-LOC', 'I-LOC', 'I-LOC', 'I-LOC', 'I-LOC', 'B-LOC', 'B-LOC', 'B-LOC', 'B-LOC', 'B-LOC', 'B-LOC', 'O']\n"
     ],
     "name": "stdout"
    }
   ]
  },
  {
   "cell_type": "markdown",
   "metadata": {
    "id": "qU3aw95Gooef",
    "colab_type": "text"
   },
   "source": [
    "Приведём все наши последовательности к единому виду, добавив паддинги к коротким последовательностям, или обрезав длинные последовательности до максимально заданной величины."
   ]
  },
  {
   "cell_type": "code",
   "metadata": {
    "id": "UY5yQ7HzwF4d",
    "colab_type": "code",
    "colab": {}
   },
   "source": [
    "input_ids = pad_sequences([tokenizer.convert_tokens_to_ids(txt) for txt in tokenized_texts],\n",
    "                          maxlen=MAX_LEN,\n",
    "                          dtype='long',\n",
    "                          value=0.0,\n",
    "                          truncating='post',\n",
    "                          padding='post')"
   ],
   "execution_count": 0,
   "outputs": []
  },
  {
   "cell_type": "code",
   "metadata": {
    "id": "LSoNvIdMwhdG",
    "colab_type": "code",
    "colab": {}
   },
   "source": [
    "tags = pad_sequences([[tag2idx.get(l) for l in lab] for lab in labels],\n",
    "                     maxlen=MAX_LEN,\n",
    "                     value=tag2idx['PAD'],\n",
    "                     padding='post',\n",
    "                     dtype='long',\n",
    "                     truncating='post')"
   ],
   "execution_count": 0,
   "outputs": []
  },
  {
   "cell_type": "markdown",
   "metadata": {
    "id": "FgmpkpGco17x",
    "colab_type": "text"
   },
   "source": [
    "Посмотрим, что у нас получилось."
   ]
  },
  {
   "cell_type": "code",
   "metadata": {
    "id": "7sO_MFs0wvIz",
    "colab_type": "code",
    "outputId": "9c8d0d24-5f33-4b61-e026-dddf3b8a60c6",
    "colab": {
     "base_uri": "https://localhost:8080/",
     "height": 578
    }
   },
   "source": [
    "input_ids[0], tags[0]"
   ],
   "execution_count": 0,
   "outputs": [
    {
     "output_type": "execute_result",
     "data": {
      "text/plain": [
       "(array([  460, 10286,   492, 19692, 28394, 19692, 20442, 19692,   478,\n",
       "        20442, 10286, 17127, 17424, 28409, 17424, 28404,   492,   458,\n",
       "        10286, 28404, 28394, 17424, 19692, 17106,   117,   488, 10286,\n",
       "          477, 16948, 28403, 28404, 16948, 28399, 19692,   118,   118,\n",
       "          492,   449, 19692, 28400, 16948, 20442, 28405, 28403, 28403,\n",
       "        17424, 19692, 17106,   117,   488, 10286,   505, 28395, 16948,\n",
       "          118,   482, 10286, 28402, 10286, 28396, 19692,   118,   118,\n",
       "          172,   462, 16948, 28400, 28414, 28410, 19692, 17106,   483,\n",
       "          457, 10286, 28400, 17424, 17127, 17424, 17127, 28395, 20442,\n",
       "        10286, 28396, 28403, 28399, 16948, 17106,   489, 28393, 28400,\n",
       "        10286, 28403, 28404, 28414, 28416,   463, 16948, 28403, 28403,\n",
       "        17424, 17424,   119,     0,     0,     0,     0,     0,     0,\n",
       "            0,     0,     0,     0,     0,     0,     0,     0,     0,\n",
       "            0,     0,     0,     0,     0,     0,     0,     0,     0,\n",
       "            0,     0,     0,     0,     0,     0,     0,     0,     0,\n",
       "            0,     0,     0,     0,     0,     0,     0,     0,     0,\n",
       "            0,     0,     0,     0,     0,     0,     0,     0,     0,\n",
       "            0,     0,     0,     0,     0,     0,     0,     0,     0,\n",
       "            0,     0,     0,     0,     0,     0,     0,     0,     0,\n",
       "            0,     0,     0,     0,     0,     0,     0,     0,     0,\n",
       "            0,     0,     0,     0,     0,     0,     0,     0,     0,\n",
       "            0,     0,     0,     0,     0,     0,     0,     0,     0,\n",
       "            0,     0]),\n",
       " array([3, 3, 3, 3, 3, 3, 3, 3, 3, 3, 3, 3, 3, 3, 3, 3, 3, 2, 2, 2, 2, 2,\n",
       "        2, 2, 3, 3, 3, 3, 3, 3, 3, 3, 3, 3, 3, 3, 3, 2, 2, 2, 2, 2, 2, 2,\n",
       "        2, 2, 2, 2, 3, 3, 3, 3, 3, 3, 3, 3, 3, 3, 3, 3, 3, 3, 3, 3, 2, 2,\n",
       "        2, 2, 2, 2, 2, 3, 2, 2, 2, 2, 2, 2, 2, 2, 2, 2, 2, 2, 2, 2, 2, 2,\n",
       "        2, 2, 2, 2, 2, 2, 2, 1, 1, 1, 1, 1, 1, 3, 9, 9, 9, 9, 9, 9, 9, 9,\n",
       "        9, 9, 9, 9, 9, 9, 9, 9, 9, 9, 9, 9, 9, 9, 9, 9, 9, 9, 9, 9, 9, 9,\n",
       "        9, 9, 9, 9, 9, 9, 9, 9, 9, 9, 9, 9, 9, 9, 9, 9, 9, 9, 9, 9, 9, 9,\n",
       "        9, 9, 9, 9, 9, 9, 9, 9, 9, 9, 9, 9, 9, 9, 9, 9, 9, 9, 9, 9, 9, 9,\n",
       "        9, 9, 9, 9, 9, 9, 9, 9, 9, 9, 9, 9, 9, 9, 9, 9, 9, 9, 9, 9, 9, 9,\n",
       "        9, 9]))"
      ]
     },
     "metadata": {
      "tags": []
     },
     "execution_count": 27
    }
   ]
  },
  {
   "cell_type": "code",
   "metadata": {
    "id": "r0iHg104wyrj",
    "colab_type": "code",
    "colab": {}
   },
   "source": [
    "# Маска для игнорирования паддингов\n",
    "attention_masks = [[float(i != 0.0) for i in ii] for ii in input_ids]"
   ],
   "execution_count": 0,
   "outputs": []
  },
  {
   "cell_type": "markdown",
   "metadata": {
    "id": "mCBKFwZgo6pn",
    "colab_type": "text"
   },
   "source": [
    "Разобьём наш датасет на обучающую и тестовую подвыборки."
   ]
  },
  {
   "cell_type": "code",
   "metadata": {
    "id": "wpbo5iK2xBk_",
    "colab_type": "code",
    "colab": {}
   },
   "source": [
    "tr_inputs, val_inputs, tr_tags, val_tags = train_test_split(input_ids, tags,\n",
    "                                                            random_state=42, test_size=0.02)\n",
    "tr_masks, val_masks, _, _ = train_test_split(attention_masks, input_ids,\n",
    "                                             random_state=42, test_size=0.02)"
   ],
   "execution_count": 0,
   "outputs": []
  },
  {
   "cell_type": "markdown",
   "metadata": {
    "id": "Jofi3FjzpDdI",
    "colab_type": "text"
   },
   "source": [
    "Переведём всё в тензоры"
   ]
  },
  {
   "cell_type": "code",
   "metadata": {
    "id": "4RjUtO8kxZgC",
    "colab_type": "code",
    "colab": {}
   },
   "source": [
    "# To Tensor\n",
    "tr_inputs = torch.tensor(tr_inputs)\n",
    "val_inputs = torch.tensor(val_inputs)\n",
    "tr_tags = torch.tensor(tr_tags)\n",
    "val_tags = torch.tensor(val_tags)\n",
    "tr_masks = torch.tensor(tr_masks)\n",
    "val_masks = torch.tensor(val_masks)"
   ],
   "execution_count": 0,
   "outputs": []
  },
  {
   "cell_type": "markdown",
   "metadata": {
    "id": "1TegjDpMpG21",
    "colab_type": "text"
   },
   "source": [
    "Инициализируем DataLoader'ы:"
   ]
  },
  {
   "cell_type": "code",
   "metadata": {
    "id": "sZa_hgYLxxdE",
    "colab_type": "code",
    "colab": {}
   },
   "source": [
    "train_data = TensorDataset(tr_inputs, tr_masks, tr_tags)\n",
    "train_sampler = RandomSampler(train_data)\n",
    "train_dataloader = DataLoader(train_data, sampler=train_sampler, batch_size=BATCH_SIZE)\n",
    "\n",
    "valid_data = TensorDataset(val_inputs, val_masks, val_tags)\n",
    "valid_sampler = SequentialSampler(valid_data)\n",
    "valid_dataloader = DataLoader(valid_data, sampler=valid_sampler, batch_size=BATCH_SIZE)"
   ],
   "execution_count": 0,
   "outputs": []
  },
  {
   "cell_type": "markdown",
   "metadata": {
    "id": "Yx65n_l9pTNK",
    "colab_type": "text"
   },
   "source": [
    "## Дообучение модели\n",
    "\n",
    "Загрузим предобученную модель BERT Base и дообучим её на наших данных."
   ]
  },
  {
   "cell_type": "code",
   "metadata": {
    "id": "tccpYQQDx9rp",
    "colab_type": "code",
    "outputId": "90dcb06c-010f-4a4b-aedd-31a2c255cc98",
    "colab": {
     "base_uri": "https://localhost:8080/",
     "height": 115,
     "referenced_widgets": [
      "4b5e3947d03647b2ba8c7b4818be2c7e",
      "5fa14d467c4f442fa320f70b4661c665",
      "8f967f67df8a463a969591acf19959c7",
      "c7fd402921cd4b08bb487c40d8e3d8d1",
      "38e033c67dd6486792fda4e353149c4a",
      "12da5699d3414a05aeb3585d47fc7a62",
      "de1be7a0ff52484db403cafcadc269d7",
      "b30c3101a4a14c7eb9eb5c25d529b838",
      "a6fa7e033aae41d9b863a9de69139113",
      "74208456c85b40a3acef0d087ef2b8cb",
      "e76db483fe75455eb50d67af67da21e8",
      "bec0cab32a6543dc98f0018fa7e427fc",
      "fc32f6a771ac4d81a2d43ccaba68a785",
      "9cacc5fc68b54d6395588e0d4a7bdc44",
      "0f3c8cce1f9b487c8d22fadb3af4496b",
      "ec51a97691fe4f359aa021d3e12cfcc5"
     ]
    }
   },
   "source": [
    "model = BertForTokenClassification.from_pretrained(\n",
    "    'bert-base-cased',\n",
    "    num_labels=len(tag2idx),\n",
    "    output_attentions = False,\n",
    "    output_hidden_states = False\n",
    ")"
   ],
   "execution_count": 0,
   "outputs": [
    {
     "output_type": "display_data",
     "data": {
      "application/vnd.jupyter.widget-view+json": {
       "model_id": "4b5e3947d03647b2ba8c7b4818be2c7e",
       "version_minor": 0,
       "version_major": 2
      },
      "text/plain": [
       "HBox(children=(IntProgress(value=0, description='Downloading', max=433, style=ProgressStyle(description_width=…"
      ]
     },
     "metadata": {
      "tags": []
     }
    },
    {
     "output_type": "stream",
     "text": [
      "\n"
     ],
     "name": "stdout"
    },
    {
     "output_type": "display_data",
     "data": {
      "application/vnd.jupyter.widget-view+json": {
       "model_id": "a6fa7e033aae41d9b863a9de69139113",
       "version_minor": 0,
       "version_major": 2
      },
      "text/plain": [
       "HBox(children=(IntProgress(value=0, description='Downloading', max=435779157, style=ProgressStyle(description_…"
      ]
     },
     "metadata": {
      "tags": []
     }
    },
    {
     "output_type": "stream",
     "text": [
      "\n"
     ],
     "name": "stdout"
    }
   ]
  },
  {
   "cell_type": "markdown",
   "metadata": {
    "id": "m04omarhpftq",
    "colab_type": "text"
   },
   "source": [
    "Параметры модели:"
   ]
  },
  {
   "cell_type": "code",
   "metadata": {
    "id": "3IJ8vcxUyW1U",
    "colab_type": "code",
    "colab": {}
   },
   "source": [
    "FULL_FINETUNING = True\n",
    "if FULL_FINETUNING:\n",
    "    param_optimizer = list(model.named_parameters())\n",
    "    no_decay = ['bias', 'gamma', 'beta']\n",
    "    optimizer_grouped_parameters = [\n",
    "        {'params': [p for n, p in param_optimizer if not any(nd in n for nd in no_decay)],\n",
    "         'weight_decay_rate': 0.01},\n",
    "        {'params': [p for n, p in param_optimizer if any(nd in n for nd in no_decay)],\n",
    "         'weight_decay_rate': 0.0}\n",
    "    ]\n",
    "else:\n",
    "    param_optimizer = list(model.classifier.named_parameters())\n",
    "    optimizer_grouped_parameters = [{\"params\": [p for n, p in param_optimizer]}]\n",
    "\n",
    "optimizer = AdamW(\n",
    "    optimizer_grouped_parameters,\n",
    "    lr=3e-5,\n",
    "    eps=1e-8\n",
    ")"
   ],
   "execution_count": 0,
   "outputs": []
  },
  {
   "cell_type": "code",
   "metadata": {
    "id": "svDICFMNyKUo",
    "colab_type": "code",
    "colab": {}
   },
   "source": [
    "model.to(device);"
   ],
   "execution_count": 0,
   "outputs": []
  },
  {
   "cell_type": "code",
   "metadata": {
    "id": "Mknqf-Wlyg8e",
    "colab_type": "code",
    "colab": {}
   },
   "source": [
    "epochs = 4\n",
    "max_grad_norm = 1.0"
   ],
   "execution_count": 0,
   "outputs": []
  },
  {
   "cell_type": "markdown",
   "metadata": {
    "id": "ide0ZygcplNt",
    "colab_type": "text"
   },
   "source": [
    "Шэдулер для изменения learning rate.\n",
    "\n",
    "В ходе обучения модели рекомендуется изменять learning rate. В Pytorch имеется несколько методов изменения LR.\n"
   ]
  },
  {
   "cell_type": "code",
   "metadata": {
    "id": "76rwM8gMylPd",
    "colab_type": "code",
    "colab": {}
   },
   "source": [
    "total_steps = len(train_dataloader) * epochs\n",
    "\n",
    "scheduler = get_linear_schedule_with_warmup(\n",
    "    optimizer,\n",
    "    num_warmup_steps=0,\n",
    "    num_training_steps=total_steps\n",
    ")"
   ],
   "execution_count": 0,
   "outputs": []
  },
  {
   "cell_type": "markdown",
   "metadata": {
    "id": "ck0k_Ck2qHx5",
    "colab_type": "text"
   },
   "source": [
    "Подсчёт точности"
   ]
  },
  {
   "cell_type": "code",
   "metadata": {
    "id": "_v1pF3x0yqmb",
    "colab_type": "code",
    "colab": {}
   },
   "source": [
    "def flat_accuracy(preds, labels):\n",
    "    pred_flat = np.argmax(preds, axis=2).flatten()\n",
    "    labels_flat = labels.flatten()\n",
    "    return np.sum(pred_flat == labels_flat) / len(labels_flat)"
   ],
   "execution_count": 0,
   "outputs": []
  },
  {
   "cell_type": "markdown",
   "metadata": {
    "id": "JjdbFeGKqEU5",
    "colab_type": "text"
   },
   "source": [
    "Обучение"
   ]
  },
  {
   "cell_type": "code",
   "metadata": {
    "id": "pyXVsdgYy8aH",
    "colab_type": "code",
    "colab": {}
   },
   "source": [
    "loss_values, validation_loss_values = [], []\n",
    "\n",
    "for _ in trange(epochs, desc='Epoch'):\n",
    "    model.train()\n",
    "    total_loss = 0\n",
    "\n",
    "    for step, batch in enumerate(train_dataloader):\n",
    "        batch = tuple(t.to(device) for t in batch)\n",
    "        b_input_ids, b_input_mask, b_labels = batch\n",
    "\n",
    "        model.zero_grad()\n",
    "\n",
    "        outputs = model(b_input_ids,\n",
    "                        token_type_ids=None,\n",
    "                        attention_mask=b_input_mask,\n",
    "                        labels=b_labels)\n",
    "\n",
    "        loss = outputs[0]\n",
    "        loss.backward()\n",
    "\n",
    "        total_loss += loss.item()\n",
    "\n",
    "        # clip_grad_norm_ помогает против взрыва градиентов\n",
    "        torch.nn.utils.clip_grad_norm_(parameters=model.parameters(), max_norm=max_grad_norm)\n",
    "\n",
    "        optimizer.step()\n",
    "        scheduler.step()\n",
    "\n",
    "    avg_train_loss = total_loss / len(train_dataloader)\n",
    "    print(\"Средний лосс обучения: {}\".format(avg_train_loss))\n",
    "\n",
    "    loss_values.append(avg_train_loss)\n",
    "\n",
    "    # Валидация\n",
    "    model.eval()\n",
    "    eval_loss, eval_accuracy = 0, 0\n",
    "    nb_eval_steps, nb_eval_examples = 0, 0\n",
    "    predictions , true_labels = [], []\n",
    "\n",
    "    for batch in valid_dataloader:\n",
    "        batch = tuple(t.to(device) for t in batch)\n",
    "        b_input_ids, b_input_mask, b_labels = batch\n",
    "\n",
    "        with torch.no_grad():\n",
    "            outputs = model(b_input_ids,\n",
    "                            token_type_ids=None,\n",
    "                            attention_mask=b_input_mask,\n",
    "                            labels=b_labels)\n",
    "            \n",
    "        logits = outputs[1].detach().cpu().numpy()\n",
    "        label_ids = b_labels.to('cpu').numpy()\n",
    "\n",
    "        eval_loss += outputs[0].mean().item()\n",
    "        eval_accuracy += flat_accuracy(logits, label_ids)\n",
    "        predictions.extend([list(p) for p in np.argmax(logits, axis=2)])\n",
    "        true_labels.extend(label_ids)\n",
    "\n",
    "        nb_eval_examples += b_input_ids.size(0)\n",
    "        nb_eval_steps += 1\n",
    "\n",
    "    eval_loss = eval_loss / nb_eval_steps\n",
    "    validation_loss_values.append(eval_loss)\n",
    "    print(\"Лосс на валидации: {}\".format(eval_loss))\n",
    "    print(\"Accuracy на валидации: {}\".format(eval_accuracy/nb_eval_steps))\n",
    "    pred_tags = [tag_values[p_i] for p, l in zip(predictions, true_labels)\n",
    "                                 for p_i, l_i in zip(p, l) if tag_values[l_i] != \"PAD\"]\n",
    "    valid_tags = [tag_values[l_i] for l in true_labels\n",
    "                                  for l_i in l if tag_values[l_i] != \"PAD\"]\n",
    "    print(\"F1 на валидации: {}\".format(f1_score(valid_tags, pred_tags)))\n",
    "    print()"
   ],
   "execution_count": 0,
   "outputs": []
  },
  {
   "cell_type": "markdown",
   "metadata": {
    "id": "olri3oRZqt5A",
    "colab_type": "text"
   },
   "source": [
    "## Оценка качества\n",
    "Посмотрим на метрики нашей обученной модели:"
   ]
  },
  {
   "cell_type": "code",
   "metadata": {
    "id": "_inPt5Wa0XcY",
    "colab_type": "code",
    "outputId": "df6922a6-60d5-47cd-f158-9382095808fb",
    "colab": {
     "base_uri": "https://localhost:8080/",
     "height": 187
    }
   },
   "source": [
    "print(classification_report(valid_tags, pred_tags))"
   ],
   "execution_count": 0,
   "outputs": [
    {
     "output_type": "stream",
     "text": [
      "           precision    recall  f1-score   support\n",
      "\n",
      "      LOC       0.90      0.92      0.91      3142\n",
      "     MISC       0.81      0.81      0.81      1599\n",
      "      PER       0.89      0.91      0.90      1440\n",
      "      ORG       0.83      0.88      0.85       746\n",
      "\n",
      "micro avg       0.87      0.89      0.88      6927\n",
      "macro avg       0.87      0.89      0.88      6927\n",
      "\n"
     ],
     "name": "stdout"
    }
   ]
  },
  {
   "cell_type": "markdown",
   "metadata": {
    "id": "Q-irtPtcq9uH",
    "colab_type": "text"
   },
   "source": [
    "Посмотрим, как изменялся лосс в ходе обучения"
   ]
  },
  {
   "cell_type": "code",
   "metadata": {
    "id": "7hTgnmsIkGGY",
    "colab_type": "code",
    "outputId": "dd5295fb-7557-4cb6-fa31-dd3ed8530adc",
    "colab": {
     "base_uri": "https://localhost:8080/",
     "height": 427
    }
   },
   "source": [
    "plt.plot(loss_values, 'b-o', label='training loss')\n",
    "plt.plot(validation_loss_values, 'r-o', label='validation loss')\n",
    "\n",
    "plt.title('Learning curve')\n",
    "plt.xlabel('Epoch')\n",
    "plt.ylabel('Loss')\n",
    "plt.legend()"
   ],
   "execution_count": 0,
   "outputs": [
    {
     "output_type": "display_data",
     "data": {
      "image/png": "[encoded data removed]",
      "text/plain": [
       "<Figure size 864x432 with 1 Axes>"
      ]
     },
     "metadata": {
      "tags": []
     }
    }
   ]
  },
  {
   "cell_type": "markdown",
   "metadata": {
    "id": "5cb3SScXrQ76",
    "colab_type": "text"
   },
   "source": [
    "Из графика видно, что для обучения модели на нашем датасете достаточно лишь одной эпохи. Потом - происходит небольшое переобучение.\n",
    "\n",
    "Сохраним модель:"
   ]
  },
  {
   "cell_type": "code",
   "metadata": {
    "id": "CCHyLkvBkKeV",
    "colab_type": "code",
    "colab": {}
   },
   "source": [
    "!mkdir '/content/drive/My Drive/colab_data/NER/model'"
   ],
   "execution_count": 0,
   "outputs": []
  },
  {
   "cell_type": "code",
   "metadata": {
    "id": "V7Osy2T1kvYb",
    "colab_type": "code",
    "outputId": "5819e999-43ec-4397-eac0-d4df77c53410",
    "colab": {
     "base_uri": "https://localhost:8080/",
     "height": 68
    }
   },
   "source": [
    "model.save_pretrained('/content/drive/My Drive/colab_data/NER/model')\n",
    "tokenizer.save_pretrained('/content/drive/My Drive/colab_data/NER/model')"
   ],
   "execution_count": 0,
   "outputs": [
    {
     "output_type": "execute_result",
     "data": {
      "text/plain": [
       "('/content/drive/My Drive/colab_data/NER/model/vocab.txt',\n",
       " '/content/drive/My Drive/colab_data/NER/model/special_tokens_map.json',\n",
       " '/content/drive/My Drive/colab_data/NER/model/added_tokens.json')"
      ]
     },
     "metadata": {
      "tags": []
     },
     "execution_count": 45
    }
   ]
  },
  {
   "cell_type": "markdown",
   "metadata": {
    "id": "eSDAJ57frVEn",
    "colab_type": "text"
   },
   "source": [
    "Посмотрим вживую, как модель размечает текст:"
   ]
  },
  {
   "cell_type": "code",
   "metadata": {
    "id": "bV4dMMEzk51Y",
    "colab_type": "code",
    "colab": {}
   },
   "source": [
    "test_sentence = \"\"\"\n",
    "Судно-трубоукладчик «Академик Черский», которое рассматривали как один \n",
    "из вариантов завершения строительства газопровода «Северный поток — 2», \n",
    "указало курс на Находку. Об этом информирует \n",
    "РИА Новости со ссылкой на данные порталов по отслеживанию судов \n",
    "Marine Traffic и Vesselfinder.\n",
    "\"\"\""
   ],
   "execution_count": 0,
   "outputs": []
  },
  {
   "cell_type": "code",
   "metadata": {
    "id": "tIeqBc8vllXy",
    "colab_type": "code",
    "colab": {}
   },
   "source": [
    "tokenized_sentence = tokenizer.encode(test_sentence)\n",
    "input_ids = torch.tensor([tokenized_sentence]).cuda()"
   ],
   "execution_count": 0,
   "outputs": []
  },
  {
   "cell_type": "code",
   "metadata": {
    "id": "aBQ-ixz1lpip",
    "colab_type": "code",
    "colab": {}
   },
   "source": [
    "with torch.no_grad():\n",
    "    output = model(input_ids)\n",
    "label_indices = np.argmax(output[0].to('cpu').numpy(), axis=2)"
   ],
   "execution_count": 0,
   "outputs": []
  },
  {
   "cell_type": "code",
   "metadata": {
    "id": "tf3m2Fw2lt6O",
    "colab_type": "code",
    "colab": {}
   },
   "source": [
    "# объединяем токены и метки\n",
    "tokens = tokenizer.convert_ids_to_tokens(input_ids.to('cpu').numpy()[0])\n",
    "new_tokens, new_labels = [], []\n",
    "for token, label_idx in zip(tokens, label_indices[0]):\n",
    "    if token.startswith(\"##\"):\n",
    "        new_tokens[-1] = new_tokens[-1] + token[2:]\n",
    "    else:\n",
    "        new_labels.append(tag_values[label_idx])\n",
    "        new_tokens.append(token)"
   ],
   "execution_count": 0,
   "outputs": []
  },
  {
   "cell_type": "code",
   "metadata": {
    "id": "Us96JFPyl0GK",
    "colab_type": "code",
    "outputId": "e388210f-b97a-4e47-e8de-e015975a8e94",
    "colab": {
     "base_uri": "https://localhost:8080/",
     "height": 850
    }
   },
   "source": [
    "for token, label in zip(new_tokens, new_labels):\n",
    "    print(\"{}\\t{}\".format(label, token))"
   ],
   "execution_count": 0,
   "outputs": [
    {
     "output_type": "stream",
     "text": [
      "O\t[CLS]\n",
      "I-MISC\tСудно\n",
      "O\t-\n",
      "O\tтрубоукладчик\n",
      "O\t«\n",
      "I-MISC\tАкадемик\n",
      "I-MISC\tЧерский\n",
      "O\t»\n",
      "O\t,\n",
      "O\tкоторое\n",
      "O\tрассматривали\n",
      "O\tкак\n",
      "O\tодин\n",
      "O\tиз\n",
      "O\tвариантов\n",
      "O\tзавершения\n",
      "O\tстроительства\n",
      "O\tгазопровода\n",
      "O\t«\n",
      "I-MISC\tСеверный\n",
      "I-MISC\tпоток\n",
      "I-MISC\t—\n",
      "I-MISC\t2\n",
      "O\t»\n",
      "O\t,\n",
      "O\tуказало\n",
      "O\tкурс\n",
      "O\tна\n",
      "I-MISC\tНаходку\n",
      "O\t.\n",
      "O\tОб\n",
      "O\tэтом\n",
      "O\tинформирует\n",
      "I-ORG\tРИА\n",
      "I-ORG\tНовости\n",
      "O\tсо\n",
      "O\tссылкой\n",
      "O\tна\n",
      "O\tданные\n",
      "O\tпорталов\n",
      "O\tпо\n",
      "O\tотслеживанию\n",
      "O\tсудов\n",
      "I-MISC\tMarine\n",
      "I-MISC\tTraffic\n",
      "O\tи\n",
      "I-MISC\tVesselfinder\n",
      "O\t.\n",
      "O\t[SEP]\n"
     ],
     "name": "stdout"
    }
   ]
  }
 ]
}
