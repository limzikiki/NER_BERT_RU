{
 "cells": [
  {
   "metadata": {},
   "cell_type": "markdown",
   "source": "",
   "id": "eba259bdf8622a47"
  },
  {
   "metadata": {
    "ExecuteTime": {
     "end_time": "2024-06-19T21:03:14.124460Z",
     "start_time": "2024-06-19T21:03:06.750596Z"
    }
   },
   "cell_type": "code",
   "source": "!pip install transformers seqeval keras torch matplotlib seaborn tensorflow Keras-Preprocessing",
   "id": "8c4d9165e7690e35",
   "outputs": [
    {
     "name": "stdout",
     "output_type": "stream",
     "text": [
      "Requirement already satisfied: transformers in c:\\source\\other\\ner_bert_ru\\venv\\lib\\site-packages (4.41.2)\n",
      "Requirement already satisfied: seqeval in c:\\source\\other\\ner_bert_ru\\venv\\lib\\site-packages (1.2.2)\n",
      "Requirement already satisfied: keras in c:\\source\\other\\ner_bert_ru\\venv\\lib\\site-packages (3.3.3)\n",
      "Requirement already satisfied: torch in c:\\source\\other\\ner_bert_ru\\venv\\lib\\site-packages (2.3.1)\n",
      "Requirement already satisfied: matplotlib in c:\\source\\other\\ner_bert_ru\\venv\\lib\\site-packages (3.9.0)\n",
      "Requirement already satisfied: seaborn in c:\\source\\other\\ner_bert_ru\\venv\\lib\\site-packages (0.13.2)\n",
      "Requirement already satisfied: tensorflow in c:\\source\\other\\ner_bert_ru\\venv\\lib\\site-packages (2.16.1)\n",
      "Collecting Keras-Preprocessing\n",
      "  Downloading Keras_Preprocessing-1.1.2-py2.py3-none-any.whl.metadata (1.9 kB)\n",
      "Requirement already satisfied: filelock in c:\\source\\other\\ner_bert_ru\\venv\\lib\\site-packages (from transformers) (3.15.1)\n",
      "Requirement already satisfied: huggingface-hub<1.0,>=0.23.0 in c:\\source\\other\\ner_bert_ru\\venv\\lib\\site-packages (from transformers) (0.23.4)\n",
      "Requirement already satisfied: numpy>=1.17 in c:\\source\\other\\ner_bert_ru\\venv\\lib\\site-packages (from transformers) (1.26.4)\n",
      "Requirement already satisfied: packaging>=20.0 in c:\\source\\other\\ner_bert_ru\\venv\\lib\\site-packages (from transformers) (24.1)\n",
      "Requirement already satisfied: pyyaml>=5.1 in c:\\source\\other\\ner_bert_ru\\venv\\lib\\site-packages (from transformers) (6.0.1)\n",
      "Requirement already satisfied: regex!=2019.12.17 in c:\\source\\other\\ner_bert_ru\\venv\\lib\\site-packages (from transformers) (2024.5.15)\n",
      "Requirement already satisfied: requests in c:\\source\\other\\ner_bert_ru\\venv\\lib\\site-packages (from transformers) (2.32.3)\n",
      "Requirement already satisfied: tokenizers<0.20,>=0.19 in c:\\source\\other\\ner_bert_ru\\venv\\lib\\site-packages (from transformers) (0.19.1)\n",
      "Requirement already satisfied: safetensors>=0.4.1 in c:\\source\\other\\ner_bert_ru\\venv\\lib\\site-packages (from transformers) (0.4.3)\n",
      "Requirement already satisfied: tqdm>=4.27 in c:\\source\\other\\ner_bert_ru\\venv\\lib\\site-packages (from transformers) (4.66.4)\n",
      "Requirement already satisfied: scikit-learn>=0.21.3 in c:\\source\\other\\ner_bert_ru\\venv\\lib\\site-packages (from seqeval) (1.5.0)\n",
      "Requirement already satisfied: absl-py in c:\\source\\other\\ner_bert_ru\\venv\\lib\\site-packages (from keras) (2.1.0)\n",
      "Requirement already satisfied: rich in c:\\source\\other\\ner_bert_ru\\venv\\lib\\site-packages (from keras) (13.7.1)\n",
      "Requirement already satisfied: namex in c:\\source\\other\\ner_bert_ru\\venv\\lib\\site-packages (from keras) (0.0.8)\n",
      "Requirement already satisfied: h5py in c:\\source\\other\\ner_bert_ru\\venv\\lib\\site-packages (from keras) (3.11.0)\n",
      "Requirement already satisfied: optree in c:\\source\\other\\ner_bert_ru\\venv\\lib\\site-packages (from keras) (0.11.0)\n",
      "Requirement already satisfied: ml-dtypes in c:\\source\\other\\ner_bert_ru\\venv\\lib\\site-packages (from keras) (0.3.2)\n",
      "Requirement already satisfied: typing-extensions>=4.8.0 in c:\\source\\other\\ner_bert_ru\\venv\\lib\\site-packages (from torch) (4.12.2)\n",
      "Requirement already satisfied: sympy in c:\\source\\other\\ner_bert_ru\\venv\\lib\\site-packages (from torch) (1.12.1)\n",
      "Requirement already satisfied: networkx in c:\\source\\other\\ner_bert_ru\\venv\\lib\\site-packages (from torch) (3.3)\n",
      "Requirement already satisfied: jinja2 in c:\\source\\other\\ner_bert_ru\\venv\\lib\\site-packages (from torch) (3.1.4)\n",
      "Requirement already satisfied: fsspec in c:\\source\\other\\ner_bert_ru\\venv\\lib\\site-packages (from torch) (2024.6.0)\n",
      "Requirement already satisfied: mkl<=2021.4.0,>=2021.1.1 in c:\\source\\other\\ner_bert_ru\\venv\\lib\\site-packages (from torch) (2021.4.0)\n",
      "Requirement already satisfied: contourpy>=1.0.1 in c:\\source\\other\\ner_bert_ru\\venv\\lib\\site-packages (from matplotlib) (1.2.1)\n",
      "Requirement already satisfied: cycler>=0.10 in c:\\source\\other\\ner_bert_ru\\venv\\lib\\site-packages (from matplotlib) (0.12.1)\n",
      "Requirement already satisfied: fonttools>=4.22.0 in c:\\source\\other\\ner_bert_ru\\venv\\lib\\site-packages (from matplotlib) (4.53.0)\n",
      "Requirement already satisfied: kiwisolver>=1.3.1 in c:\\source\\other\\ner_bert_ru\\venv\\lib\\site-packages (from matplotlib) (1.4.5)\n",
      "Requirement already satisfied: pillow>=8 in c:\\source\\other\\ner_bert_ru\\venv\\lib\\site-packages (from matplotlib) (10.3.0)\n",
      "Requirement already satisfied: pyparsing>=2.3.1 in c:\\source\\other\\ner_bert_ru\\venv\\lib\\site-packages (from matplotlib) (3.1.2)\n",
      "Requirement already satisfied: python-dateutil>=2.7 in c:\\source\\other\\ner_bert_ru\\venv\\lib\\site-packages (from matplotlib) (2.9.0.post0)\n",
      "Requirement already satisfied: pandas>=1.2 in c:\\source\\other\\ner_bert_ru\\venv\\lib\\site-packages (from seaborn) (2.2.2)\n",
      "Requirement already satisfied: tensorflow-intel==2.16.1 in c:\\source\\other\\ner_bert_ru\\venv\\lib\\site-packages (from tensorflow) (2.16.1)\n",
      "Requirement already satisfied: astunparse>=1.6.0 in c:\\source\\other\\ner_bert_ru\\venv\\lib\\site-packages (from tensorflow-intel==2.16.1->tensorflow) (1.6.3)\n",
      "Requirement already satisfied: flatbuffers>=23.5.26 in c:\\source\\other\\ner_bert_ru\\venv\\lib\\site-packages (from tensorflow-intel==2.16.1->tensorflow) (24.3.25)\n",
      "Requirement already satisfied: gast!=0.5.0,!=0.5.1,!=0.5.2,>=0.2.1 in c:\\source\\other\\ner_bert_ru\\venv\\lib\\site-packages (from tensorflow-intel==2.16.1->tensorflow) (0.5.4)\n",
      "Requirement already satisfied: google-pasta>=0.1.1 in c:\\source\\other\\ner_bert_ru\\venv\\lib\\site-packages (from tensorflow-intel==2.16.1->tensorflow) (0.2.0)\n",
      "Requirement already satisfied: libclang>=13.0.0 in c:\\source\\other\\ner_bert_ru\\venv\\lib\\site-packages (from tensorflow-intel==2.16.1->tensorflow) (18.1.1)\n",
      "Requirement already satisfied: opt-einsum>=2.3.2 in c:\\source\\other\\ner_bert_ru\\venv\\lib\\site-packages (from tensorflow-intel==2.16.1->tensorflow) (3.3.0)\n",
      "Requirement already satisfied: protobuf!=4.21.0,!=4.21.1,!=4.21.2,!=4.21.3,!=4.21.4,!=4.21.5,<5.0.0dev,>=3.20.3 in c:\\source\\other\\ner_bert_ru\\venv\\lib\\site-packages (from tensorflow-intel==2.16.1->tensorflow) (4.25.3)\n",
      "Requirement already satisfied: setuptools in c:\\source\\other\\ner_bert_ru\\venv\\lib\\site-packages (from tensorflow-intel==2.16.1->tensorflow) (70.0.0)\n",
      "Requirement already satisfied: six>=1.12.0 in c:\\source\\other\\ner_bert_ru\\venv\\lib\\site-packages (from tensorflow-intel==2.16.1->tensorflow) (1.16.0)\n",
      "Requirement already satisfied: termcolor>=1.1.0 in c:\\source\\other\\ner_bert_ru\\venv\\lib\\site-packages (from tensorflow-intel==2.16.1->tensorflow) (2.4.0)\n",
      "Requirement already satisfied: wrapt>=1.11.0 in c:\\source\\other\\ner_bert_ru\\venv\\lib\\site-packages (from tensorflow-intel==2.16.1->tensorflow) (1.16.0)\n",
      "Requirement already satisfied: grpcio<2.0,>=1.24.3 in c:\\source\\other\\ner_bert_ru\\venv\\lib\\site-packages (from tensorflow-intel==2.16.1->tensorflow) (1.64.1)\n",
      "Requirement already satisfied: tensorboard<2.17,>=2.16 in c:\\source\\other\\ner_bert_ru\\venv\\lib\\site-packages (from tensorflow-intel==2.16.1->tensorflow) (2.16.2)\n",
      "Requirement already satisfied: intel-openmp==2021.* in c:\\source\\other\\ner_bert_ru\\venv\\lib\\site-packages (from mkl<=2021.4.0,>=2021.1.1->torch) (2021.4.0)\n",
      "Requirement already satisfied: tbb==2021.* in c:\\source\\other\\ner_bert_ru\\venv\\lib\\site-packages (from mkl<=2021.4.0,>=2021.1.1->torch) (2021.12.0)\n",
      "Requirement already satisfied: pytz>=2020.1 in c:\\source\\other\\ner_bert_ru\\venv\\lib\\site-packages (from pandas>=1.2->seaborn) (2024.1)\n",
      "Requirement already satisfied: tzdata>=2022.7 in c:\\source\\other\\ner_bert_ru\\venv\\lib\\site-packages (from pandas>=1.2->seaborn) (2024.1)\n",
      "Requirement already satisfied: charset-normalizer<4,>=2 in c:\\source\\other\\ner_bert_ru\\venv\\lib\\site-packages (from requests->transformers) (3.3.2)\n",
      "Requirement already satisfied: idna<4,>=2.5 in c:\\source\\other\\ner_bert_ru\\venv\\lib\\site-packages (from requests->transformers) (3.7)\n",
      "Requirement already satisfied: urllib3<3,>=1.21.1 in c:\\source\\other\\ner_bert_ru\\venv\\lib\\site-packages (from requests->transformers) (2.2.1)\n",
      "Requirement already satisfied: certifi>=2017.4.17 in c:\\source\\other\\ner_bert_ru\\venv\\lib\\site-packages (from requests->transformers) (2024.6.2)\n",
      "Requirement already satisfied: scipy>=1.6.0 in c:\\source\\other\\ner_bert_ru\\venv\\lib\\site-packages (from scikit-learn>=0.21.3->seqeval) (1.13.1)\n",
      "Requirement already satisfied: joblib>=1.2.0 in c:\\source\\other\\ner_bert_ru\\venv\\lib\\site-packages (from scikit-learn>=0.21.3->seqeval) (1.4.2)\n",
      "Requirement already satisfied: threadpoolctl>=3.1.0 in c:\\source\\other\\ner_bert_ru\\venv\\lib\\site-packages (from scikit-learn>=0.21.3->seqeval) (3.5.0)\n",
      "Requirement already satisfied: colorama in c:\\source\\other\\ner_bert_ru\\venv\\lib\\site-packages (from tqdm>=4.27->transformers) (0.4.6)\n",
      "Requirement already satisfied: MarkupSafe>=2.0 in c:\\source\\other\\ner_bert_ru\\venv\\lib\\site-packages (from jinja2->torch) (2.1.5)\n",
      "Requirement already satisfied: markdown-it-py>=2.2.0 in c:\\source\\other\\ner_bert_ru\\venv\\lib\\site-packages (from rich->keras) (3.0.0)\n",
      "Requirement already satisfied: pygments<3.0.0,>=2.13.0 in c:\\source\\other\\ner_bert_ru\\venv\\lib\\site-packages (from rich->keras) (2.18.0)\n",
      "Requirement already satisfied: mpmath<1.4.0,>=1.1.0 in c:\\source\\other\\ner_bert_ru\\venv\\lib\\site-packages (from sympy->torch) (1.3.0)\n",
      "Requirement already satisfied: wheel<1.0,>=0.23.0 in c:\\source\\other\\ner_bert_ru\\venv\\lib\\site-packages (from astunparse>=1.6.0->tensorflow-intel==2.16.1->tensorflow) (0.43.0)\n",
      "Requirement already satisfied: mdurl~=0.1 in c:\\source\\other\\ner_bert_ru\\venv\\lib\\site-packages (from markdown-it-py>=2.2.0->rich->keras) (0.1.2)\n",
      "Requirement already satisfied: markdown>=2.6.8 in c:\\source\\other\\ner_bert_ru\\venv\\lib\\site-packages (from tensorboard<2.17,>=2.16->tensorflow-intel==2.16.1->tensorflow) (3.6)\n",
      "Requirement already satisfied: tensorboard-data-server<0.8.0,>=0.7.0 in c:\\source\\other\\ner_bert_ru\\venv\\lib\\site-packages (from tensorboard<2.17,>=2.16->tensorflow-intel==2.16.1->tensorflow) (0.7.2)\n",
      "Requirement already satisfied: werkzeug>=1.0.1 in c:\\source\\other\\ner_bert_ru\\venv\\lib\\site-packages (from tensorboard<2.17,>=2.16->tensorflow-intel==2.16.1->tensorflow) (3.0.3)\n",
      "Downloading Keras_Preprocessing-1.1.2-py2.py3-none-any.whl (42 kB)\n",
      "   ---------------------------------------- 0.0/42.6 kB ? eta -:--:--\n",
      "   ------------------- -------------------- 20.5/42.6 kB 330.3 kB/s eta 0:00:01\n",
      "   ---------------------------------------- 42.6/42.6 kB 414.6 kB/s eta 0:00:00\n",
      "Installing collected packages: Keras-Preprocessing\n",
      "Successfully installed Keras-Preprocessing-1.1.2\n"
     ]
    }
   ],
   "execution_count": 1
  },
  {
   "metadata": {},
   "cell_type": "markdown",
   "source": "",
   "id": "95b05cfb3597a18e"
  },
  {
   "metadata": {
    "ExecuteTime": {
     "end_time": "2024-06-19T21:18:33.104311Z",
     "start_time": "2024-06-19T21:18:29.146394Z"
    }
   },
   "cell_type": "code",
   "source": [
    "sentences, labels = [], []\n",
    "tag_values = set() # set of the values found \n",
    "with open('aij-wikiner-ru-wp3', encoding=\"utf8\") as df:\n",
    "    for line in df:\n",
    "        sent_w = [] # for word\n",
    "        # Tags correspons to this https://en.wikipedia.org/wiki/Inside%E2%80%93outside%E2%80%93beginning_(tagging)\n",
    "        sent_t = [] # for tag\n",
    "        sent = line.split()\n",
    "        for s in sent:\n",
    "            tag = s.split('|')\n",
    "            # getting rid of the word types, collecting only word and tag, putting them into separate groups\n",
    "            sent_w.append(tag[0])\n",
    "            sent_t.append(tag[2])\n",
    "            if len(tag[2]) > 0:\n",
    "                tag_values.update([tag[2]])\n",
    "\n",
    "        # Basically this if statment is to check when we have empty line\n",
    "        if len(sent_w) > 0:\n",
    "            sentences.append(sent_w)\n",
    "            labels.append(sent_t)\n",
    "\n",
    "import random\n",
    "tag_values = list(tag_values)\n",
    "#random.shuffle(tag_values)\n",
    "tag_values.append('PAD')\n",
    "tag_values.append('X')\n",
    "print(tag_values)\n"
   ],
   "id": "cc6a2ff85959590e",
   "outputs": [
    {
     "name": "stdout",
     "output_type": "stream",
     "text": [
      "['B-MISC', 'O', 'I-PER', 'B-ORG', 'I-ORG', 'I-LOC', 'B-PER', 'B-LOC', 'I-MISC', 'PAD', 'X']\n"
     ]
    }
   ],
   "execution_count": 23
  },
  {
   "metadata": {},
   "cell_type": "code",
   "outputs": [],
   "execution_count": 2,
   "source": [
    "from transformers import AutoTokenizer\n",
    "from transformers import AutoModelForTokenClassification"
   ],
   "id": "e25895f063e4faf"
  },
  {
   "metadata": {},
   "cell_type": "code",
   "outputs": [],
   "execution_count": 6,
   "source": [
    "model = AutoModelForTokenClassification.from_pretrained('C:/source/other/NER_BERT_RU/model')\n",
    "tokenizer = AutoTokenizer.from_pretrained('C:/source/other/NER_BERT_RU/model')"
   ],
   "id": "b13a77409a2da6f6"
  },
  {
   "metadata": {
    "ExecuteTime": {
     "end_time": "2024-06-20T06:52:26.438172Z",
     "start_time": "2024-06-20T06:52:26.429251Z"
    }
   },
   "cell_type": "code",
   "source": [
    "import torch\n",
    "test_sentence = \"\"\"Спустя несколько часов, ранним утром по Москве, информагентства сообщили, что в резиденции «Кымсусан» начались переговоры, ради которых визит и был организован. С российской стороны в состав делегации вошли, в частности, министры обороны и иностранных дел Андрей Белоусов и Сергей Лавров, а также главы РЖД и Роскосмоса.\n",
    "\n",
    "\"\"\"\n",
    "tokenized_sentence = tokenizer.encode(test_sentence)\n",
    "input_ids = torch.tensor([tokenized_sentence]).cpu()\n"
   ],
   "id": "de6c672f080c0159",
   "outputs": [],
   "execution_count": 61
  },
  {
   "metadata": {
    "ExecuteTime": {
     "end_time": "2024-06-19T21:49:47.106798Z",
     "start_time": "2024-06-19T21:49:47.097188Z"
    }
   },
   "cell_type": "code",
   "source": "tag_values = ['O', 'I-LOC', 'B-MISC', 'B-LOC', 'B-PER', 'I-PER', 'I-MISC', 'B-ORG', 'I-ORG', 'PAD', 'X']",
   "id": "13956e045c880414",
   "outputs": [],
   "execution_count": 51
  },
  {
   "metadata": {
    "ExecuteTime": {
     "end_time": "2024-06-20T06:52:29.254184Z",
     "start_time": "2024-06-20T06:52:28.722074Z"
    }
   },
   "cell_type": "code",
   "source": [
    "import numpy as np\n",
    "with torch.no_grad():\n",
    "    output = model(input_ids)\n",
    "label_indices = np.argmax(output[0].to('cpu').numpy(), axis=2)\n",
    "\n",
    "# объединяем токены и метки\n",
    "tokens = tokenizer.convert_ids_to_tokens(input_ids.to('cpu').numpy()[0])\n",
    "new_tokens, new_labels = [], []\n",
    "for token, label_idx in zip(tokens, label_indices[0]):\n",
    "    if token.startswith(\"##\"):\n",
    "        new_tokens[-1] = new_tokens[-1] + token[2:]\n",
    "    else:\n",
    "        new_labels.append(tag_values[label_idx])\n",
    "        new_tokens.append(token)\n",
    "\n",
    "for token, label in zip(new_tokens, new_labels):\n",
    "    print(\"{}\\t{}\".format(label, token))"
   ],
   "id": "b3cb2105a13763be",
   "outputs": [
    {
     "name": "stdout",
     "output_type": "stream",
     "text": [
      "O\t[CLS]\n",
      "O\tСпустя\n",
      "O\tнесколько\n",
      "O\tчасов\n",
      "O\t,\n",
      "O\tранним\n",
      "O\tутром\n",
      "O\tпо\n",
      "I-LOC\tМоскве\n",
      "O\t,\n",
      "O\tинформагентства\n",
      "O\tсообщили\n",
      "O\t,\n",
      "O\tчто\n",
      "O\tв\n",
      "O\tрезиденции\n",
      "O\t«\n",
      "I-MISC\tКымсусан\n",
      "O\t»\n",
      "O\tначались\n",
      "O\tпереговоры\n",
      "O\t,\n",
      "O\tради\n",
      "O\tкоторых\n",
      "O\tвизит\n",
      "O\tи\n",
      "O\tбыл\n",
      "O\tорганизован\n",
      "X\t.\n",
      "O\tС\n",
      "O\tроссийской\n",
      "O\tстороны\n",
      "O\tв\n",
      "O\tсостав\n",
      "O\tделегации\n",
      "O\tвошли\n",
      "O\t,\n",
      "O\tв\n",
      "O\tчастности\n",
      "O\t,\n",
      "O\tминистры\n",
      "O\tобороны\n",
      "O\tи\n",
      "O\tиностранных\n",
      "O\tдел\n",
      "I-PER\tАндрей\n",
      "I-PER\tБелоусов\n",
      "O\tи\n",
      "I-PER\tСергей\n",
      "I-PER\tЛавров\n",
      "O\t,\n",
      "O\tа\n",
      "O\tтакже\n",
      "O\tглавы\n",
      "I-ORG\tРЖД\n",
      "O\tи\n",
      "I-ORG\tРоскосмоса\n",
      "O\t.\n",
      "O\t[SEP]\n"
     ]
    }
   ],
   "execution_count": 62
  }
 ],
 "metadata": {
  "kernelspec": {
   "display_name": "Python 3",
   "language": "python",
   "name": "python3"
  },
  "language_info": {
   "codemirror_mode": {
    "name": "ipython",
    "version": 2
   },
   "file_extension": ".py",
   "mimetype": "text/x-python",
   "name": "python",
   "nbconvert_exporter": "python",
   "pygments_lexer": "ipython2",
   "version": "2.7.6"
  }
 },
 "nbformat": 4,
 "nbformat_minor": 5
}
